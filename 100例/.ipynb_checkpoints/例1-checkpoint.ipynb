{
 "cells": [
  {
   "cell_type": "code",
   "execution_count": 5,
   "metadata": {},
   "outputs": [
    {
     "name": "stdout",
     "output_type": "stream",
     "text": [
      "1 2 3 4\n",
      "1 2 4 3\n",
      "1 3 2 4\n",
      "1 3 4 2\n",
      "1 4 2 3\n",
      "1 4 3 2\n",
      "2 1 3 4\n",
      "2 1 4 3\n",
      "2 3 1 4\n",
      "2 3 4 1\n",
      "2 4 1 3\n",
      "2 4 3 1\n",
      "3 1 2 4\n",
      "3 1 4 2\n",
      "3 2 1 4\n",
      "3 2 4 1\n",
      "3 4 1 2\n",
      "3 4 2 1\n",
      "4 1 2 3\n",
      "4 1 3 2\n",
      "4 2 1 3\n",
      "4 2 3 1\n",
      "4 3 1 2\n",
      "4 3 2 1\n"
     ]
    }
   ],
   "source": [
    "for i in range(1,5):\n",
    "    for j in range(1,5):\n",
    "        for k in range(1,5):\n",
    "            for l in range(1,5):\n",
    "                if( i != j ) and (i != k) and (i != l) and (j != k) and (j != l) and (k != l):\n",
    "                    print (i,j,k,l)"
   ]
  },
  {
   "cell_type": "markdown",
   "metadata": {},
   "source": [
    "# n 個取 m個排列"
   ]
  },
  {
   "cell_type": "code",
   "execution_count": 19,
   "metadata": {},
   "outputs": [
    {
     "ename": "IndentationError",
     "evalue": "expected an indented block (<ipython-input-19-5296b835a24d>, line 21)",
     "output_type": "error",
     "traceback": [
      "\u001b[1;36m  File \u001b[1;32m\"<ipython-input-19-5296b835a24d>\"\u001b[1;36m, line \u001b[1;32m21\u001b[0m\n\u001b[1;33m    def p(x):  ###不使用套件的排列函數\u001b[0m\n\u001b[1;37m                            ^\u001b[0m\n\u001b[1;31mIndentationError\u001b[0m\u001b[1;31m:\u001b[0m expected an indented block\n"
     ]
    }
   ],
   "source": [
    "def ins(x,y):\n",
    "    x.insert(0,y)\n",
    "    return x\n",
    "\n",
    "\n",
    "L = []\n",
    "def c(x,y):\n",
    "    x.sort()\n",
    "    if len(x)==1:\n",
    "        return x[0]\n",
    "    else:\n",
    "        for i in range():\n",
    "            \n",
    "    \n",
    "\n",
    "\n",
    "\n",
    "\n",
    "\n",
    "\n",
    "def p(x):  ###不使用套件的排列函數\n",
    "    ans = [[x[0]]]  ###放入第一個數值\n",
    "    for i in range(1,len(x)):  ###準備插入剩餘的數值\n",
    "        temp1 = []\n",
    "        for j in range(len(ans)):  ###ans內有幾種可能就要跑幾次\n",
    "            for k in range(len(ans[0])+1):   \n",
    "                temp2 = ans[j] + [0]   ###避免陣列相同問題\n",
    "                temp2.pop(-1)\n",
    "                temp2.insert(k,x[i])\n",
    "                temp1.append(temp2)\n",
    "        ans = temp1\n",
    "    return ans"
   ]
  },
  {
   "cell_type": "code",
   "execution_count": null,
   "metadata": {},
   "outputs": [],
   "source": []
  },
  {
   "cell_type": "code",
   "execution_count": 27,
   "metadata": {},
   "outputs": [],
   "source": [
    "def ins(x,y):\n",
    "    x.insert(0,y)\n",
    "    return x\n"
   ]
  },
  {
   "cell_type": "code",
   "execution_count": 10,
   "metadata": {},
   "outputs": [],
   "source": [
    "L = insert([1,2,3,4],8)"
   ]
  },
  {
   "cell_type": "code",
   "execution_count": 11,
   "metadata": {},
   "outputs": [],
   "source": [
    "L"
   ]
  },
  {
   "cell_type": "code",
   "execution_count": 28,
   "metadata": {},
   "outputs": [],
   "source": [
    "x = [1,2,3,4]"
   ]
  },
  {
   "cell_type": "code",
   "execution_count": 29,
   "metadata": {},
   "outputs": [],
   "source": [
    "L = ins(x,8)"
   ]
  },
  {
   "cell_type": "code",
   "execution_count": 30,
   "metadata": {},
   "outputs": [
    {
     "data": {
      "text/plain": [
       "[8, 1, 2, 3, 4]"
      ]
     },
     "execution_count": 30,
     "metadata": {},
     "output_type": "execute_result"
    }
   ],
   "source": [
    "L"
   ]
  },
  {
   "cell_type": "code",
   "execution_count": null,
   "metadata": {},
   "outputs": [],
   "source": []
  }
 ],
 "metadata": {
  "kernelspec": {
   "display_name": "Python 3",
   "language": "python",
   "name": "python3"
  }
 },
 "nbformat": 4,
 "nbformat_minor": 2
}
