{
 "cells": [
  {
   "cell_type": "markdown",
   "metadata": {},
   "source": [
    "### Kruskal 最小生成樹作業(數據1,ppt79數據)"
   ]
  },
  {
   "cell_type": "code",
   "execution_count": 15,
   "metadata": {},
   "outputs": [
    {
     "name": "stdout",
     "output_type": "stream",
     "text": [
      "[[0, 5, 10], [2, 3, 12], [1, 6, 14], [1, 2, 16], [3, 4, 22], [4, 5, 25]]\n",
      "[-1, -1, 1, 2, 1, 1, 1]\n"
     ]
    }
   ],
   "source": [
    "n = 7   #設定節點數\n",
    "\n",
    "graph = []   #建立圖的二維串列\n",
    "graph.append([ 0,28, 0, 0, 0,10, 0])\n",
    "graph.append([28, 0,16, 0, 0, 0,14])\n",
    "graph.append([ 0,16, 0,12, 0, 0, 0])\n",
    "graph.append([ 0, 0,12, 0,22, 0,18])\n",
    "graph.append([ 0, 0, 0,22, 0,25,24])\n",
    "graph.append([10, 0, 0, 0,25, 0, 0])\n",
    "graph.append([ 0,14, 0,18,24, 0, 0])\n",
    "\n",
    "weight = []   #將權重建立在串列中並排序(用插入排序法，未用sort語法)\n",
    "for i in range(n):\n",
    "    for j in range(i,n):\n",
    "        if (graph[i][j] != 0):\n",
    "            if (len(weight) == 0):\n",
    "                weight.append([i,j,graph[i][j]])\n",
    "            else:\n",
    "                c = 0\n",
    "                for k in range(len(weight)):\n",
    "                    if (graph[i][j] < weight[k][2]):\n",
    "                        weight.insert(k,[i,j,graph[i][j]])\n",
    "                        c = 1\n",
    "                        break\n",
    "                if (c == 0):\n",
    "                    weight.append([i,j,graph[i][j]])\n",
    "                    \n",
    "parent = [-1]*n   #建立parent集合串列\n",
    "\n",
    "def findroot(x):   #建立找根函數\n",
    "    while(True):\n",
    "        if (parent[x] > 0):\n",
    "            x = parent[x]\n",
    "        else:\n",
    "            return x\n",
    "\n",
    "def union(x,y):   #建立組合函數(未考慮結合時的節點多寡)\n",
    "    parent[y] = x\n",
    "    \n",
    "count = 1   #開始演算\n",
    "ans = []\n",
    "for i in weight:  \n",
    "    if (findroot(i[0]) != findroot(i[1])):\n",
    "        union(findroot(i[0]),findroot(i[1]))\n",
    "        ans.append(i)\n",
    "        count = count + 1\n",
    "        if count == n:\n",
    "            break                \n",
    "print(ans)\n",
    "print(parent)"
   ]
  },
  {
   "cell_type": "markdown",
   "metadata": {},
   "source": [
    "### Kruskal 最小生成樹作業(數據2,ppt81數據)"
   ]
  },
  {
   "cell_type": "code",
   "execution_count": 16,
   "metadata": {},
   "outputs": [
    {
     "name": "stdout",
     "output_type": "stream",
     "text": [
      "[[1, 2, 10], [3, 6, 15], [4, 6, 20], [2, 6, 25], [3, 5, 35]]\n",
      "[-1, 2, 6, 6, 6, -1, 5]\n"
     ]
    }
   ],
   "source": [
    "n = 7   #設定節點數\n",
    "\n",
    "graph = []   #建立圖的二維串列\n",
    "graph.append([ 0, 0, 0, 0, 0, 0, 0])\n",
    "graph.append([ 0, 0,10, 0,30,45, 0])\n",
    "graph.append([ 0,10, 0,50, 0,40,25])\n",
    "graph.append([ 0, 0,50, 0, 0,35,15])\n",
    "graph.append([ 0,30, 0, 0, 0, 0,20])\n",
    "graph.append([ 0,45,40,35, 0, 0,55])\n",
    "graph.append([ 0, 0,25,15,20,55, 0])\n",
    "\n",
    "weight = []   #將權重建立在串列中並排序(用插入排序法，未用sort語法)\n",
    "for i in range(n):\n",
    "    for j in range(i,n):\n",
    "        if (graph[i][j] != 0):\n",
    "            if (len(weight) == 0):\n",
    "                weight.append([i,j,graph[i][j]])\n",
    "            else:\n",
    "                c = 0\n",
    "                for k in range(len(weight)):\n",
    "                    if (graph[i][j] < weight[k][2]):\n",
    "                        weight.insert(k,[i,j,graph[i][j]])\n",
    "                        c = 1\n",
    "                        break\n",
    "                if (c == 0):\n",
    "                    weight.append([i,j,graph[i][j]])\n",
    "\n",
    "parent = [-1]*n   #建立parent集合串列\n",
    "\n",
    "def findroot(x):   #建立找根函數\n",
    "    while(True):\n",
    "        if (parent[x] > 0):\n",
    "            x = parent[x]\n",
    "        else:\n",
    "            return x\n",
    "\n",
    "def union(x,y):   #建立組合函數(未考慮結合時的節點多寡)\n",
    "    parent[x] = y\n",
    "    \n",
    "count = 1   #開始演算\n",
    "ans = []\n",
    "for i in weight:  \n",
    "    if (findroot(i[0]) != findroot(i[1])):\n",
    "        union(findroot(i[0]),findroot(i[1]))\n",
    "        ans.append(i)\n",
    "        count = count + 1\n",
    "        if count == n:\n",
    "            break                \n",
    "print(ans)\n",
    "print(parent)\n"
   ]
  },
  {
   "cell_type": "code",
   "execution_count": null,
   "metadata": {},
   "outputs": [],
   "source": []
  }
 ],
 "metadata": {
  "kernelspec": {
   "display_name": "Python 3",
   "language": "python",
   "name": "python3"
  },
  "language_info": {
   "codemirror_mode": {
    "name": "ipython",
    "version": 3
   },
   "file_extension": ".py",
   "mimetype": "text/x-python",
   "name": "python",
   "nbconvert_exporter": "python",
   "pygments_lexer": "ipython3",
   "version": "3.7.3"
  }
 },
 "nbformat": 4,
 "nbformat_minor": 2
}
