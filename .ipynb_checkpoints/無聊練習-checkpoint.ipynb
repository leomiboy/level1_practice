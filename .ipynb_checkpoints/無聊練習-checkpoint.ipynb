{
 "cells": [
  {
   "cell_type": "code",
   "execution_count": 9,
   "metadata": {
    "scrolled": true
   },
   "outputs": [
    {
     "name": "stdout",
     "output_type": "stream",
     "text": [
      "無解\n"
     ]
    }
   ],
   "source": [
    "n = 17\n",
    "s = '5b9b79b4bb'\n",
    "sL = list(s)\n",
    "L = []\n",
    "for i in s:\n",
    "    if i.isdigit():\n",
    "        L.append(int(i))\n",
    "    else:\n",
    "        L.append([])\n",
    "c = 0\n",
    "nc =0\n",
    "for i in range(1,len(L)+1):\n",
    "    if L[i*(-1)] == []:\n",
    "        nc = nc + (10**(i-1))%n\n",
    "    else:\n",
    "        c = c + (10**(i-1))%n*L[i*(-1)]\n",
    "t = 0\n",
    "for ans in range(10):\n",
    "    if (nc*ans + c)%n == 0:\n",
    "        print(ans,end = ' ')\n",
    "        t = 1\n",
    "if t == 0:\n",
    "    print('無解')"
   ]
  },
  {
   "cell_type": "code",
   "execution_count": 10,
   "metadata": {},
   "outputs": [
    {
     "data": {
      "text/plain": [
       "22"
      ]
     },
     "execution_count": 10,
     "metadata": {},
     "output_type": "execute_result"
    }
   ],
   "source": []
  },
  {
   "cell_type": "code",
   "execution_count": null,
   "metadata": {},
   "outputs": [],
   "source": [
    "\n",
    "        \n",
    "    "
   ]
  }
 ],
 "metadata": {
  "kernelspec": {
   "display_name": "Python 3",
   "language": "python",
   "name": "python3"
  },
  "language_info": {
   "codemirror_mode": {
    "name": "ipython",
    "version": 3
   },
   "file_extension": ".py",
   "mimetype": "text/x-python",
   "name": "python",
   "nbconvert_exporter": "python",
   "pygments_lexer": "ipython3",
   "version": "3.7.3"
  }
 },
 "nbformat": 4,
 "nbformat_minor": 2
}
