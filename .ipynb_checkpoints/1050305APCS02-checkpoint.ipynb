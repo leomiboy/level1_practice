{
 "cells": [
  {
   "cell_type": "markdown",
   "metadata": {},
   "source": [
    "# 1050305APCS02 第二題 矩陣轉換"
   ]
  },
  {
   "cell_type": "code",
   "execution_count": 1,
   "metadata": {},
   "outputs": [],
   "source": [
    "def ogdata(x):\n",
    "    x = x.replace('\\n','')\n",
    "    L = list(x.split(' '))\n",
    "    NL = []\n",
    "    for i in L:\n",
    "        NL.append(int(i))\n",
    "    return NL"
   ]
  },
  {
   "cell_type": "code",
   "execution_count": 2,
   "metadata": {},
   "outputs": [],
   "source": [
    "def mirror(x):\n",
    "    x.reverse()\n",
    "    return x"
   ]
  },
  {
   "cell_type": "code",
   "execution_count": 3,
   "metadata": {},
   "outputs": [],
   "source": [
    "def rotate(x):\n",
    "    x.reverse()\n",
    "    L = []\n",
    "    for i in range(0,len(x[0])):\n",
    "        E = []\n",
    "        for j in range(0,len(x)):\n",
    "            E.append(x[j][i])\n",
    "        L.append(E)\n",
    "    return L"
   ]
  },
  {
   "cell_type": "code",
   "execution_count": 4,
   "metadata": {},
   "outputs": [],
   "source": [
    "def transfer(x):\n",
    "    L = list(open(x))\n",
    "    transfer_type = L[-1]\n",
    "    L.pop(0)\n",
    "    L.pop()\n",
    "    transfer_type = ogdata(transfer_type)\n",
    "    NL = []\n",
    "    for j in L:\n",
    "        NL.append(ogdata(j))\n",
    "    for i in transfer_type:\n",
    "        if i == 0:\n",
    "            NL = rotate(NL)\n",
    "        else:\n",
    "            NL = mirror(NL)\n",
    "    print('{} {}'.format(len(NL),len(NL[0])))\n",
    "    for k in range(0,len(NL)):\n",
    "        for h in range(0,len(NL[k])):\n",
    "            if h == len(NL[k])-1:\n",
    "                print(NL[k][h])\n",
    "            else:\n",
    "                print(NL[k][h],end = ' ')"
   ]
  },
  {
   "cell_type": "code",
   "execution_count": 37,
   "metadata": {},
   "outputs": [
    {
     "name": "stdout",
     "output_type": "stream",
     "text": [
      "3 2\n",
      "1 1\n",
      "1 3\n",
      "2 1\n"
     ]
    }
   ],
   "source": [
    "transfer('1050305APCS0201.txt')"
   ]
  },
  {
   "cell_type": "code",
   "execution_count": 38,
   "metadata": {},
   "outputs": [
    {
     "name": "stdout",
     "output_type": "stream",
     "text": [
      "2 3\n",
      "2 1 3\n",
      "1 2 3\n"
     ]
    }
   ],
   "source": [
    "transfer('1050305APCS0202.txt')"
   ]
  },
  {
   "cell_type": "code",
   "execution_count": 7,
   "metadata": {},
   "outputs": [
    {
     "name": "stdout",
     "output_type": "stream",
     "text": [
      "4 3\n",
      "3 2 1\n",
      "3 1 2\n",
      "2 6 2\n",
      "5 8 3\n"
     ]
    }
   ],
   "source": [
    "transfer('1050305APCS0203.txt')"
   ]
  },
  {
   "cell_type": "code",
   "execution_count": null,
   "metadata": {},
   "outputs": [],
   "source": []
  },
  {
   "cell_type": "code",
   "execution_count": null,
   "metadata": {},
   "outputs": [],
   "source": []
  }
 ],
 "metadata": {
  "kernelspec": {
   "display_name": "Python 3",
   "language": "python",
   "name": "python3"
  },
  "language_info": {
   "codemirror_mode": {
    "name": "ipython",
    "version": 3
   },
   "file_extension": ".py",
   "mimetype": "text/x-python",
   "name": "python",
   "nbconvert_exporter": "python",
   "pygments_lexer": "ipython3",
   "version": "3.7.3"
  }
 },
 "nbformat": 4,
 "nbformat_minor": 2
}
