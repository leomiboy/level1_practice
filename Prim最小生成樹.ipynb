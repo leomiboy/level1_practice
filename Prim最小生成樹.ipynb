{
 "cells": [
  {
   "cell_type": "markdown",
   "metadata": {},
   "source": [
    "### Prim 最小生成樹作業(數據1,ppt79數據)"
   ]
  },
  {
   "cell_type": "code",
   "execution_count": 8,
   "metadata": {},
   "outputs": [
    {
     "name": "stdout",
     "output_type": "stream",
     "text": [
      "[[0, 5, 10], [4, 5, 25], [3, 4, 22], [2, 3, 12], [1, 2, 16], [1, 6, 14]]\n"
     ]
    }
   ],
   "source": [
    "n = 7   #設定節點數\n",
    "\n",
    "graph = []   #建立圖的二維串列\n",
    "graph.append([ 0,28, 0, 0, 0,10, 0])\n",
    "graph.append([28, 0,16, 0, 0, 0,14])\n",
    "graph.append([ 0,16, 0,12, 0, 0, 0])\n",
    "graph.append([ 0, 0,12, 0,22, 0,18])\n",
    "graph.append([ 0, 0, 0,22, 0,25,24])\n",
    "graph.append([10, 0, 0, 0,25, 0, 0])\n",
    "graph.append([ 0,14, 0,18,24, 0, 0])\n",
    "\n",
    "weight = []   #將權重建立在串列中並排序(用sort語法)\n",
    "for i in range(n):\n",
    "    for j in range(i,n):\n",
    "        if (graph[i][j] != 0):\n",
    "            weight.append([i,j,graph[i][j]])\n",
    "weight.sort(key=lambda x:x[2])\n",
    "\n",
    "ans = []\n",
    "anserset = [weight[0][0]]\n",
    "while(len(anserset) < n):\n",
    "    tempweight = []\n",
    "    for i in anserset:\n",
    "        for j in weight:\n",
    "            if ((j[0] == i) or (j[1] == i)):\n",
    "                tempweight.append(j)\n",
    "    tempweight.sort(key=lambda x:x[2])\n",
    "    for i in tempweight:\n",
    "        if ((i[0] in anserset) ^ (i[1] in anserset)):\n",
    "            ans.append(i)\n",
    "            weight.remove(i)\n",
    "            if (i[0] in anserset):\n",
    "                anserset.append(i[1])\n",
    "            else:\n",
    "                anserset.append(i[0])\n",
    "            break\n",
    "print(ans)"
   ]
  },
  {
   "cell_type": "markdown",
   "metadata": {},
   "source": [
    "### Prim 最小生成樹作業(數據2,ppt81數據)"
   ]
  },
  {
   "cell_type": "code",
   "execution_count": 2,
   "metadata": {},
   "outputs": [
    {
     "name": "stdout",
     "output_type": "stream",
     "text": [
      "[[1, 2, 10], [2, 6, 25], [3, 6, 15], [4, 6, 20], [3, 5, 35]]\n"
     ]
    }
   ],
   "source": [
    "n = 7   #設定節點數\n",
    "\n",
    "graph = []   #建立圖的二維串列\n",
    "graph.append([ 0, 0, 0, 0, 0, 0, 0])\n",
    "graph.append([ 0, 0,10, 0,30,45, 0])\n",
    "graph.append([ 0,10, 0,50, 0,40,25])\n",
    "graph.append([ 0, 0,50, 0, 0,35,15])\n",
    "graph.append([ 0,30, 0, 0, 0, 0,20])\n",
    "graph.append([ 0,45,40,35, 0, 0,55])\n",
    "graph.append([ 0, 0,25,15,20,55, 0])\n",
    "\n",
    "weight = []   #將權重建立在串列中並排序(用sort語法)\n",
    "for i in range(n):\n",
    "    for j in range(i,n):\n",
    "        if (graph[i][j] != 0):\n",
    "            weight.append([i,j,graph[i][j]])\n",
    "weight.sort(key=lambda x:x[2])\n",
    "\n",
    "ans = []\n",
    "anserset = [weight[0][0]]\n",
    "while(len(anserset) < n-1):\n",
    "    tempweight = []\n",
    "    for i in anserset:\n",
    "        for j in weight:\n",
    "            if ((j[0] == i) or (j[1] == i)):\n",
    "                tempweight.append(j)\n",
    "    tempweight.sort(key=lambda x:x[2])\n",
    "    for i in tempweight:\n",
    "        if ((i[0] in anserset) ^ (i[1] in anserset)):\n",
    "            ans.append(i)\n",
    "            weight.remove(i)\n",
    "            if (i[0] in anserset):\n",
    "                anserset.append(i[1])\n",
    "            else:\n",
    "                anserset.append(i[0])\n",
    "            break\n",
    "print(ans)"
   ]
  },
  {
   "cell_type": "code",
   "execution_count": null,
   "metadata": {},
   "outputs": [],
   "source": []
  }
 ],
 "metadata": {
  "kernelspec": {
   "display_name": "Python 3",
   "language": "python",
   "name": "python3"
  },
  "language_info": {
   "codemirror_mode": {
    "name": "ipython",
    "version": 3
   },
   "file_extension": ".py",
   "mimetype": "text/x-python",
   "name": "python",
   "nbconvert_exporter": "python",
   "pygments_lexer": "ipython3",
   "version": "3.7.3"
  }
 },
 "nbformat": 4,
 "nbformat_minor": 2
}
