{
 "cells": [
  {
   "cell_type": "markdown",
   "metadata": {},
   "source": [
    "# 1050305APCS02 第二題 矩陣轉換"
   ]
  },
  {
   "cell_type": "code",
   "execution_count": 10,
   "metadata": {},
   "outputs": [
    {
     "name": "stdout",
     "output_type": "stream",
     "text": [
      "3 2 2\n",
      "3 3\n",
      "2 1\n",
      "1 2\n",
      "0 1\n",
      "2 3\n",
      "2 1 3\n",
      "1 2 3\n"
     ]
    }
   ],
   "source": [
    "def mirror(x):\n",
    "    x.reverse()\n",
    "    return x\n",
    "\n",
    "def rotate(x):\n",
    "    x.reverse()\n",
    "    L = []\n",
    "    for i in range(0,len(x[0])):\n",
    "        E = []\n",
    "        for j in range(0,len(x)):\n",
    "            E.append(x[j][i])\n",
    "        L.append(E)\n",
    "    return L\n",
    "\n",
    "first_line = input()\n",
    "first_line = first_line.split()\n",
    "NL =[]\n",
    "for i in range(int(first_line[0])):\n",
    "    L = input()\n",
    "    L = L.split()\n",
    "    NL.append(L)\n",
    "transfer_type = input()\n",
    "transfer_type = transfer_type.split()\n",
    "for i in transfer_type:\n",
    "    if i == '0':\n",
    "        NL = rotate(NL)\n",
    "    else:\n",
    "        NL = mirror(NL)\n",
    "print(f'{len(NL)} {len(NL[0])}')\n",
    "for k in range(0,len(NL)):\n",
    "    print(' '.join(NL[k]))"
   ]
  },
  {
   "cell_type": "code",
   "execution_count": null,
   "metadata": {},
   "outputs": [],
   "source": []
  }
 ],
 "metadata": {
  "kernelspec": {
   "display_name": "Python 3",
   "language": "python",
   "name": "python3"
  },
  "language_info": {
   "codemirror_mode": {
    "name": "ipython",
    "version": 3
   },
   "file_extension": ".py",
   "mimetype": "text/x-python",
   "name": "python",
   "nbconvert_exporter": "python",
   "pygments_lexer": "ipython3",
   "version": "3.7.3"
  }
 },
 "nbformat": 4,
 "nbformat_minor": 2
}
