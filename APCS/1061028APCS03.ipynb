{
 "cells": [
  {
   "cell_type": "markdown",
   "metadata": {},
   "source": [
    "# 1061028APCS03 第3題 樹狀圖分析"
   ]
  },
  {
   "cell_type": "code",
   "execution_count": 24,
   "metadata": {},
   "outputs": [
    {
     "name": "stdout",
     "output_type": "stream",
     "text": [
      "9\n",
      "1 6\n",
      "3 5 3 8\n",
      "0\n",
      "2 1 7\n",
      "1 9\n",
      "0\n",
      "1 2\n",
      "0\n",
      "0\n",
      "4\n",
      "11\n"
     ]
    }
   ],
   "source": [
    "num = int(input())\n",
    "Tree = []\n",
    "child = []\n",
    "for i in range(num):\n",
    "    line = list(map(int,input().split()))\n",
    "    line.pop(0)\n",
    "    Tree.append(line)\n",
    "    child = child + line\n",
    "L =[]\n",
    "for i in range(num):\n",
    "    if len(Tree[i]) != 0:\n",
    "        L.append(i+1)\n",
    "for i in L:\n",
    "    if i not in child:\n",
    "        root = i\n",
    "def h(x):\n",
    "    if Tree[x-1]==[]:\n",
    "        return 0\n",
    "    else:\n",
    "        Temp=[]\n",
    "        for i in range(len(Tree[x-1])):\n",
    "            Temp.append(h(Tree[x-1][i])+1)\n",
    "        Temp.sort()\n",
    "        return Temp[-1]\n",
    "s = 0\n",
    "for i in range(1,num+1):\n",
    "    s = s + h(i)\n",
    "print(root)\n",
    "print(s)"
   ]
  },
  {
   "cell_type": "code",
   "execution_count": null,
   "metadata": {},
   "outputs": [],
   "source": []
  }
 ],
 "metadata": {
  "kernelspec": {
   "display_name": "Python 3",
   "language": "python",
   "name": "python3"
  },
  "language_info": {
   "codemirror_mode": {
    "name": "ipython",
    "version": 3
   },
   "file_extension": ".py",
   "mimetype": "text/x-python",
   "name": "python",
   "nbconvert_exporter": "python",
   "pygments_lexer": "ipython3",
   "version": "3.7.3"
  }
 },
 "nbformat": 4,
 "nbformat_minor": 2
}
