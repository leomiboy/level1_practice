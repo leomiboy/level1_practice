{
 "cells": [
  {
   "cell_type": "markdown",
   "metadata": {},
   "source": [
    "# 第四題 反序數量"
   ]
  },
  {
   "cell_type": "code",
   "execution_count": 43,
   "metadata": {},
   "outputs": [
    {
     "name": "stdout",
     "output_type": "stream",
     "text": [
      "20\n",
      "1 2 8 9 3 6 4 5 7 3 5 7 1 2 3 9 7 8 4 3\n",
      "80\n"
     ]
    }
   ],
   "source": [
    "num = int(input())\n",
    "data = list(map(int,input().split()))\n",
    "def s(x,y):\n",
    "    count = 0\n",
    "    for i in x:\n",
    "        for j in y:\n",
    "            if i>j:\n",
    "                count = count+1\n",
    "    return count\n",
    "def w(x):\n",
    "    if len(x) == 2:\n",
    "        if x[0]>x[1]:\n",
    "            return 1\n",
    "        else:\n",
    "            return 0\n",
    "    elif len(x)==1:\n",
    "        return 0\n",
    "    else:\n",
    "        ind = int(len(x)/2)\n",
    "        fL=x[:ind]\n",
    "        bL=x[ind:]\n",
    "        if len(fL) == 1:\n",
    "            if bL[0]>bL[1]:\n",
    "                return 1+s(fL,bL)\n",
    "            else:\n",
    "                return s(fL,bL)\n",
    "        else:\n",
    "            return w(fL) + w(bL) + s(fL,bL)\n",
    "print(w(data))"
   ]
  },
  {
   "cell_type": "code",
   "execution_count": null,
   "metadata": {},
   "outputs": [],
   "source": []
  }
 ],
 "metadata": {
  "kernelspec": {
   "display_name": "Python 3",
   "language": "python",
   "name": "python3"
  },
  "language_info": {
   "codemirror_mode": {
    "name": "ipython",
    "version": 3
   },
   "file_extension": ".py",
   "mimetype": "text/x-python",
   "name": "python",
   "nbconvert_exporter": "python",
   "pygments_lexer": "ipython3",
   "version": "3.7.3"
  }
 },
 "nbformat": 4,
 "nbformat_minor": 2
}
