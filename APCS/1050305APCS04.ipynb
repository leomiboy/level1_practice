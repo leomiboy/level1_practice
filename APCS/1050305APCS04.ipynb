{
 "cells": [
  {
   "cell_type": "markdown",
   "metadata": {},
   "source": [
    "# 1050305APCS04 第4題 血緣關係"
   ]
  },
  {
   "cell_type": "code",
   "execution_count": 71,
   "metadata": {
    "scrolled": true
   },
   "outputs": [
    {
     "name": "stdout",
     "output_type": "stream",
     "text": [
      "11\n",
      "0 1\n",
      "0 2\n",
      "1 3\n",
      "1 4\n",
      "1 5\n",
      "2 6\n",
      "2 7\n",
      "5 8\n",
      "5 9\n",
      "9 10\n",
      "6\n"
     ]
    }
   ],
   "source": [
    "### 存放輸入數據\n",
    "num = int(input())    \n",
    "L = []\n",
    "for i in range(num-1):\n",
    "    line = list(map(int,input().split()))\n",
    "    L.append(line)\n",
    "### 建立樹狀資料串列\n",
    "Tree = []\n",
    "for i in range(num):\n",
    "    Tree.append([])\n",
    "for i in range(num-1):\n",
    "    index = L[i][0]\n",
    "    Tree[index].append(L[i][1])\n",
    "###計算節點高度\n",
    "H = []\n",
    "def h(x):\n",
    "    if Tree[x] == []:\n",
    "        return 0\n",
    "    else:\n",
    "        global ans\n",
    "        temp = []\n",
    "        for i in range(len(Tree[x])):\n",
    "            temp.append(h(Tree[x][i])+1)\n",
    "        temp.sort()\n",
    "        H.append(temp)\n",
    "        return temp[-1]\n",
    "###找出根節點\n",
    "child = []\n",
    "for i in L:\n",
    "    child.append(i[1])\n",
    "for i in range(num):\n",
    "    if i not in child:\n",
    "        root = i\n",
    "###利用根節點求解\n",
    "h(root)\n",
    "ans = 0\n",
    "for i in H:\n",
    "    if len(i) == 1:\n",
    "        if ans < i[0]:\n",
    "            ans = i[0]\n",
    "    elif ans < i[-1]+i[-2]:\n",
    "        ans = i[-1]+i[-2]\n",
    "print(ans)        "
   ]
  },
  {
   "cell_type": "code",
   "execution_count": null,
   "metadata": {},
   "outputs": [],
   "source": []
  },
  {
   "cell_type": "markdown",
   "metadata": {},
   "source": [
    "# 題意理解錯誤"
   ]
  },
  {
   "cell_type": "code",
   "execution_count": null,
   "metadata": {},
   "outputs": [],
   "source": [
    "num = int(input())      \n",
    "L = []\n",
    "for i in range(num-1):\n",
    "    line = input()\n",
    "    line = line.split()\n",
    "    L.append(line)                    \n",
    "last = []\n",
    "for j in range(num-1):\n",
    "    last.append(L[j][1])\n",
    "Max_path = 0\n",
    "for k in range(len(last)):\n",
    "    path = 0\n",
    "    s = last[k]\n",
    "    while s in last:\n",
    "        path = path + 1\n",
    "        s = L[k][0]\n",
    "        for l in range(len(last)):\n",
    "            if s == last[l]:\n",
    "                k = l\n",
    "    if path > Max_path:\n",
    "        Max_path = path\n",
    "print(Max_path)"
   ]
  },
  {
   "cell_type": "code",
   "execution_count": null,
   "metadata": {},
   "outputs": [],
   "source": [
    "###計算節點高度\n",
    "def h(x):\n",
    "    if Tree[x] == []:\n",
    "        return 0\n",
    "    else:\n",
    "        global ans\n",
    "        temp = []\n",
    "        for i in range(len(Tree[x])):\n",
    "            temp.append(h(Tree[x][i])+1)\n",
    "        temp.sort()\n",
    "        print(temp)\n",
    "        return temp[-1]"
   ]
  }
 ],
 "metadata": {
  "kernelspec": {
   "display_name": "Python 3",
   "language": "python",
   "name": "python3"
  },
  "language_info": {
   "codemirror_mode": {
    "name": "ipython",
    "version": 3
   },
   "file_extension": ".py",
   "mimetype": "text/x-python",
   "name": "python",
   "nbconvert_exporter": "python",
   "pygments_lexer": "ipython3",
   "version": "3.7.3"
  }
 },
 "nbformat": 4,
 "nbformat_minor": 2
}
