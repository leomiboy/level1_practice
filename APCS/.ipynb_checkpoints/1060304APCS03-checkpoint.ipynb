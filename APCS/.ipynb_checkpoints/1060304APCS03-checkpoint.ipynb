{
 "cells": [
  {
   "cell_type": "markdown",
   "metadata": {},
   "source": [
    "# 1060304APCS03 第3題 數字龍捲風"
   ]
  },
  {
   "cell_type": "code",
   "execution_count": 2,
   "metadata": {},
   "outputs": [
    {
     "name": "stdout",
     "output_type": "stream",
     "text": [
      "3\n",
      "1\n",
      "4 1 2\n",
      "3 0 5\n",
      "6 7 8\n",
      "012587634\n"
     ]
    }
   ],
   "source": [
    "###建立矩陣\n",
    "num = int(input())\n",
    "style = int(input())\n",
    "matrix = []\n",
    "for i in range(num):\n",
    "    matrix.append(list(map(int,input().split())))\n",
    "\n",
    "###移動函數\n",
    "def move(x,i,j):\n",
    "    if x == 0:\n",
    "        return i,j-1\n",
    "    elif x == 1:\n",
    "        return i-1,j\n",
    "    elif x == 2:\n",
    "        return i,j+1\n",
    "    else:\n",
    "        return i+1,j\n",
    "\n",
    "###計算龍捲風串列\n",
    "ansL = []\n",
    "a,b = int(num/2),int(num/2)\n",
    "ansL.append(matrix[a][b])\n",
    "c = 0\n",
    "t = 1\n",
    "while c < num**2:\n",
    "    for i in range(t):\n",
    "        c = c + 1\n",
    "        if c >= num**2:\n",
    "            break\n",
    "        a,b = move(style,a,b)\n",
    "        ansL.append(matrix[a][b])          \n",
    "    style = (style+1)%4\n",
    "    \n",
    "    for i in range(t):\n",
    "        c = c + 1\n",
    "        if c >= num**2:\n",
    "            break\n",
    "        a,b = move(style,a,b)\n",
    "        ansL.append(matrix[a][b]) \n",
    "    style = (style+1)%4\n",
    "        \n",
    "    for i in range(t+1):\n",
    "        c = c + 1\n",
    "        if c >= num**2:\n",
    "            break\n",
    "        a,b = move(style,a,b)\n",
    "        ansL.append(matrix[a][b])\n",
    "    style = (style+1)%4\n",
    "    \n",
    "    for i in range(t+1):\n",
    "        c = c + 1\n",
    "        if c >= num**2:\n",
    "            break \n",
    "        a,b = move(style,a,b)\n",
    "        ansL.append(matrix[a][b])        \n",
    "    style = (style+1)%4\n",
    "    t = t + 2\n",
    "print(''.join(map(str,ansL)))"
   ]
  },
  {
   "cell_type": "code",
   "execution_count": null,
   "metadata": {},
   "outputs": [],
   "source": []
  }
 ],
 "metadata": {
  "kernelspec": {
   "display_name": "Python 3",
   "language": "python",
   "name": "python3"
  },
  "language_info": {
   "codemirror_mode": {
    "name": "ipython",
    "version": 3
   },
   "file_extension": ".py",
   "mimetype": "text/x-python",
   "name": "python",
   "nbconvert_exporter": "python",
   "pygments_lexer": "ipython3",
   "version": "3.7.3"
  }
 },
 "nbformat": 4,
 "nbformat_minor": 2
}
