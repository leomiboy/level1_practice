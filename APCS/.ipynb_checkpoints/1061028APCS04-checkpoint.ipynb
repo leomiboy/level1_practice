{
 "cells": [
  {
   "cell_type": "markdown",
   "metadata": {},
   "source": [
    "# 1061028APCS04 第4題 物品堆疊"
   ]
  },
  {
   "cell_type": "code",
   "execution_count": 20,
   "metadata": {},
   "outputs": [
    {
     "name": "stdout",
     "output_type": "stream",
     "text": [
      "2\n",
      "20 10\n",
      "1 1\n",
      "10\n"
     ]
    }
   ],
   "source": [
    "###輸入資料整理\n",
    "num =int(input())\n",
    "d1 = []\n",
    "for i in range(2):\n",
    "    line = list(map(int,input().split()))\n",
    "    d1.append(line)\n",
    "d2 = []\n",
    "for i in range(num):\n",
    "    d2.append([d1[0][i],d1[1][i]])\n",
    "###找出全部排列\n",
    "def p(x):###不使用套件的排列函數    ###找遞迴寫法\n",
    "    base = x\n",
    "    ans = [[base[0]]]\n",
    "    for i in range(1,len(base)):\n",
    "        temp1 = []\n",
    "        for j in range(len(ans)):\n",
    "            for k in range(len(ans[0])+1):\n",
    "                temp2 = ans[j] + [0] #避免陣列相同問題\n",
    "                temp2.pop(-1)\n",
    "                temp2.insert(k,base[i])\n",
    "                temp1.append(temp2)\n",
    "        ans = temp1\n",
    "    return ans\n",
    "allp = p(d1[0])\n",
    "###計算答案\n",
    "def cr(x):###設定消耗與對應的函數\n",
    "    global num\n",
    "    for i in range(num):\n",
    "        if x == d2[i][0]:\n",
    "            return d2[i][1]\n",
    "Minsum = 999999999\n",
    "for i in range(len(allp)):\n",
    "    temp = allp[i][0]\n",
    "    sumx = 0\n",
    "    for j in range(1,num):\n",
    "        sumx = sumx + temp*cr(allp[i][j])\n",
    "        temp = temp + allp[i][j]\n",
    "    if Minsum > sumx:\n",
    "        Minsum = sumx\n",
    "print(Minsum)"
   ]
  },
  {
   "cell_type": "code",
   "execution_count": 23,
   "metadata": {},
   "outputs": [
    {
     "name": "stdout",
     "output_type": "stream",
     "text": [
      "10\n"
     ]
    }
   ],
   "source": [
    "!python 1061028APCSp4.py < \"1061028APCS0401.txt\""
   ]
  },
  {
   "cell_type": "code",
   "execution_count": 24,
   "metadata": {},
   "outputs": [
    {
     "name": "stdout",
     "output_type": "stream",
     "text": [
      "19\n"
     ]
    }
   ],
   "source": [
    "!python 1061028APCSp4.py < \"1061028APCS0402.txt\""
   ]
  },
  {
   "cell_type": "markdown",
   "metadata": {},
   "source": [
    "# 更新解法"
   ]
  },
  {
   "cell_type": "markdown",
   "metadata": {},
   "source": [
    "### 先進後出 堆疊"
   ]
  },
  {
   "cell_type": "markdown",
   "metadata": {},
   "source": [
    "### 先進先出 佇列"
   ]
  },
  {
   "cell_type": "code",
   "execution_count": 1,
   "metadata": {},
   "outputs": [],
   "source": [
    "from itertools import permutations"
   ]
  },
  {
   "cell_type": "code",
   "execution_count": 2,
   "metadata": {},
   "outputs": [],
   "source": [
    "N = 3"
   ]
  },
  {
   "cell_type": "code",
   "execution_count": 6,
   "metadata": {},
   "outputs": [],
   "source": [
    "L = list(permutations(range(4)))"
   ]
  },
  {
   "cell_type": "code",
   "execution_count": 8,
   "metadata": {},
   "outputs": [
    {
     "data": {
      "text/plain": [
       "0"
      ]
     },
     "execution_count": 8,
     "metadata": {},
     "output_type": "execute_result"
    }
   ],
   "source": [
    "L[0][0]"
   ]
  },
  {
   "cell_type": "code",
   "execution_count": 11,
   "metadata": {},
   "outputs": [
    {
     "name": "stdout",
     "output_type": "stream",
     "text": [
      "3\n",
      "3 4 5\n",
      "1 2 3\n",
      "19\n"
     ]
    }
   ],
   "source": [
    "###輸入資料整理\n",
    "num =int(input())\n",
    "d1 = []\n",
    "for i in range(2):\n",
    "    line = list(map(int,input().split()))\n",
    "    d1.append(line)\n",
    "#d2 = []\n",
    "#for i in range(num):\n",
    "#    d2.append([d1[0][i],d1[1][i]])\n",
    "from itertools import permutations\n",
    "allp = list(permutations(d1[0]))\n",
    "###計算答案\n",
    "def cr(x):###設定消耗與對應的函數\n",
    "    global num\n",
    "    for i in range(num):\n",
    "        if x == d2[i][0]:\n",
    "            return d2[i][1]\n",
    "Minsum = 999999999\n",
    "for i in range(len(allp)):\n",
    "    temp = allp[i][0]\n",
    "    sum = 0\n",
    "    for j in range(1,num):\n",
    "        sum = sum + temp*cr(allp[i][j])\n",
    "        temp = temp + allp[i][j]\n",
    "    if Minsum > sum:\n",
    "        Minsum = sum\n",
    "print(Minsum)"
   ]
  },
  {
   "cell_type": "code",
   "execution_count": 12,
   "metadata": {},
   "outputs": [
    {
     "name": "stdout",
     "output_type": "stream",
     "text": [
      "2\n",
      "20 10\n",
      "1 1\n",
      "10\n"
     ]
    }
   ],
   "source": [
    "from itertools import permutations\n",
    "\n",
    "N = int(input())\n",
    "w_str = input().split()\n",
    "f_str = input().split()\n",
    "\n",
    "w = list(map(int,w_str))\n",
    "f = list(map(int,f_str))\n",
    "\n",
    "stacks = list(permutations(range(N)))\n",
    "\n",
    "def energy(s):\n",
    "    e = 0\n",
    "    for k in range(1,N):#改為range(N)亦可\n",
    "        weight = 0\n",
    "        for i in range(k):\n",
    "            weight = weight + w[s[i]]\n",
    "        e = e + f[s[k]]*weight\n",
    "    return e\n",
    "\n",
    "mineg = min(list(map(energy,stacks)))\n",
    "print(mineg)"
   ]
  },
  {
   "cell_type": "code",
   "execution_count": 1,
   "metadata": {},
   "outputs": [],
   "source": [
    "L = [1,2,3,4,5]"
   ]
  },
  {
   "cell_type": "code",
   "execution_count": 6,
   "metadata": {},
   "outputs": [
    {
     "data": {
      "text/plain": [
       "[]"
      ]
     },
     "execution_count": 6,
     "metadata": {},
     "output_type": "execute_result"
    }
   ],
   "source": [
    "L[0:0]"
   ]
  },
  {
   "cell_type": "code",
   "execution_count": 11,
   "metadata": {},
   "outputs": [],
   "source": [
    "for i in L[0:0]:\n",
    "    print(\"1\")"
   ]
  },
  {
   "cell_type": "code",
   "execution_count": 13,
   "metadata": {},
   "outputs": [
    {
     "name": "stdout",
     "output_type": "stream",
     "text": [
      "2\n",
      "20 10\n",
      "1 1\n",
      "10\n"
     ]
    }
   ],
   "source": [
    "from itertools import permutations\n",
    "\n",
    "N = int(input())\n",
    "w_str = input().split()\n",
    "f_str = input().split()\n",
    "\n",
    "w = list(map(int,w_str))\n",
    "f = list(map(int,f_str))\n",
    "\n",
    "stacks = list(permutations(range(N)))\n",
    "\n",
    "def energy(s):\n",
    "    e = 0\n",
    "    for k in range(1,N):\n",
    "        weight = sum(w[s[i]])\n",
    "        e = e + f[s[k]]*weight\n",
    "    return e\n",
    "\n",
    "mineg = min(list(map(energy,stacks)))\n",
    "print(mineg)"
   ]
  },
  {
   "cell_type": "code",
   "execution_count": 3,
   "metadata": {},
   "outputs": [
    {
     "name": "stdout",
     "output_type": "stream",
     "text": [
      "2\n",
      "20 10\n",
      "1 1\n",
      "10\n"
     ]
    }
   ],
   "source": [
    "from itertools import permutations\n",
    "\n",
    "N = int(input())\n",
    "w_str = input().split()\n",
    "f_str = input().split()\n",
    "\n",
    "w = lambda k:int(w_str[k])\n",
    "f = lambda k:int(f_str[k])\n",
    "\n",
    "stacks = list(permutations(range(N)))\n",
    "\n",
    "def energy2(s):\n",
    "    e = 0\n",
    "    for k in range(1,N):\n",
    "        wei = sum(map(w,s[:k]))\n",
    "        e = e + wei*f(s[k])\n",
    "    return e\n",
    "\n",
    "mineg = min(map(energy2,stacks))\n",
    "print(mineg)"
   ]
  },
  {
   "cell_type": "code",
   "execution_count": null,
   "metadata": {},
   "outputs": [],
   "source": []
  }
 ],
 "metadata": {
  "kernelspec": {
   "display_name": "Python 3",
   "language": "python",
   "name": "python3"
  },
  "language_info": {
   "codemirror_mode": {
    "name": "ipython",
    "version": 3
   },
   "file_extension": ".py",
   "mimetype": "text/x-python",
   "name": "python",
   "nbconvert_exporter": "python",
   "pygments_lexer": "ipython3",
   "version": "3.7.3"
  }
 },
 "nbformat": 4,
 "nbformat_minor": 2
}
