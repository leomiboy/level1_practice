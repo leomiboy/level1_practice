{
 "cells": [
  {
   "cell_type": "markdown",
   "metadata": {},
   "source": [
    "# 1061028APCS04 第4題 物品堆疊"
   ]
  },
  {
   "cell_type": "code",
   "execution_count": 20,
   "metadata": {},
   "outputs": [
    {
     "name": "stdout",
     "output_type": "stream",
     "text": [
      "2\n",
      "20 10\n",
      "1 1\n",
      "10\n"
     ]
    }
   ],
   "source": [
    "###輸入資料整理\n",
    "num =int(input())\n",
    "d1 = []\n",
    "for i in range(2):\n",
    "    line = list(map(int,input().split()))\n",
    "    d1.append(line)\n",
    "d2 = []\n",
    "for i in range(num):\n",
    "    d2.append([d1[0][i],d1[1][i]])\n",
    "###找出全部排列\n",
    "def p(x):###不使用套件的排列函數\n",
    "    base = x\n",
    "    ans = [[base[0]]]\n",
    "    for i in range(1,len(base)):\n",
    "        temp1 = []\n",
    "        for j in range(len(ans)):\n",
    "            for k in range(len(ans[0])+1):\n",
    "                temp2 = ans[j] + [0] #避免陣列相同問題\n",
    "                temp2.pop(-1)\n",
    "                temp2.insert(k,base[i])\n",
    "                temp1.append(temp2)\n",
    "        ans = temp1\n",
    "    return ans\n",
    "allp = p(d1[0])\n",
    "###計算答案\n",
    "def cr(x):###設定消耗與對應的函數\n",
    "    global num\n",
    "    for i in range(num):\n",
    "        if x == d2[i][0]:\n",
    "            return d2[i][1]\n",
    "Minsum = 999999999\n",
    "for i in range(len(allp)):\n",
    "    temp = allp[i][0]\n",
    "    sum = 0\n",
    "    for j in range(1,num):\n",
    "        sum = sum + temp*cr(allp[i][j])\n",
    "        temp = temp + allp[i][j]\n",
    "    if Minsum > sum:\n",
    "        Minsum = sum\n",
    "print(Minsum)"
   ]
  },
  {
   "cell_type": "code",
   "execution_count": 23,
   "metadata": {},
   "outputs": [
    {
     "name": "stdout",
     "output_type": "stream",
     "text": [
      "10\n"
     ]
    }
   ],
   "source": [
    "!python 1061028APCSp4.py < \"1061028APCS0401.txt\""
   ]
  },
  {
   "cell_type": "code",
   "execution_count": 24,
   "metadata": {},
   "outputs": [
    {
     "name": "stdout",
     "output_type": "stream",
     "text": [
      "19\n"
     ]
    }
   ],
   "source": [
    "!python 1061028APCSp4.py < \"1061028APCS0402.txt\""
   ]
  },
  {
   "cell_type": "code",
   "execution_count": null,
   "metadata": {},
   "outputs": [],
   "source": []
  }
 ],
 "metadata": {
  "kernelspec": {
   "display_name": "Python 3",
   "language": "python",
   "name": "python3"
  },
  "language_info": {
   "codemirror_mode": {
    "name": "ipython",
    "version": 3
   },
   "file_extension": ".py",
   "mimetype": "text/x-python",
   "name": "python",
   "nbconvert_exporter": "python",
   "pygments_lexer": "ipython3",
   "version": "3.7.3"
  }
 },
 "nbformat": 4,
 "nbformat_minor": 2
}
