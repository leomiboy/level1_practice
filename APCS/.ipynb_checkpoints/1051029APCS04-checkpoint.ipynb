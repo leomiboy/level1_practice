{
 "cells": [
  {
   "cell_type": "markdown",
   "metadata": {},
   "source": [
    "# 1051029APCS04 第4題 棒球遊戲"
   ]
  },
  {
   "cell_type": "code",
   "execution_count": 9,
   "metadata": {},
   "outputs": [
    {
     "name": "stdout",
     "output_type": "stream",
     "text": [
      "5 1B 1B FO GO 1B\n",
      "5 1B 2B FO FO SO\n",
      "4 SO HR SO 1B\n",
      "4 FO FO FO HR\n",
      "4 1B 1B 1B 1B\n",
      "4 GO GO 3B GO\n",
      "4 1B GO GO SO\n",
      "4 SO GO 2B 2B\n",
      "4 3B GO GO FO\n",
      "6\n",
      "5\n"
     ]
    }
   ],
   "source": [
    "### 整理打擊資料\n",
    "dnum = 0\n",
    "data1 = []\n",
    "for i in range(10):\n",
    "    if i == 9:\n",
    "        Mout = int(input())\n",
    "    else:\n",
    "        line = list(input().split())\n",
    "        dnum = dnum + int(line[0])\n",
    "        line.pop(0)\n",
    "        data1.append(line)\n",
    "c = 0\n",
    "data2 = []\n",
    "for i in range(len(data1[0])):\n",
    "    for j in range(len(data1)):\n",
    "        data2.append(data1[j][i])\n",
    "        c = c + 1\n",
    "        if c == dnum:\n",
    "            break\n",
    "###跑壘函數\n",
    "def run(x,L):\n",
    "    if x == '1B':\n",
    "        L = L + [1]\n",
    "    elif x == '2B':\n",
    "        L = L + [1,0]\n",
    "    elif x == '3B':\n",
    "        L = L + [1,0,0]\n",
    "    else:\n",
    "        L = L + [1,0,0,0]\n",
    "    return L\n",
    "\n",
    "###計分函數\n",
    "def score(L):\n",
    "    if len(L) < 4:\n",
    "        return 0\n",
    "    else:\n",
    "        s = 0\n",
    "        L = L[:-3]\n",
    "        for i in L:\n",
    "            if i == 1:\n",
    "                s = s + 1\n",
    "        return s\n",
    "                            \n",
    "###計算答案\n",
    "out = 0\n",
    "field = []\n",
    "ans = 0\n",
    "for i in range(len(data2)):\n",
    "    if (data2[i] == 'SO')|(data2[i] == 'FO')|(data2[i] == 'GO'):\n",
    "        out = out + 1\n",
    "    else:\n",
    "        field = run(data2[i],field)\n",
    "        if len(field) > 3:\n",
    "            ans = ans +score(field)\n",
    "            field = field[:-3]\n",
    "    if out == Mout:\n",
    "        break\n",
    "print(ans)"
   ]
  },
  {
   "cell_type": "code",
   "execution_count": null,
   "metadata": {},
   "outputs": [],
   "source": []
  }
 ],
 "metadata": {
  "kernelspec": {
   "display_name": "Python 3",
   "language": "python",
   "name": "python3"
  },
  "language_info": {
   "codemirror_mode": {
    "name": "ipython",
    "version": 3
   },
   "file_extension": ".py",
   "mimetype": "text/x-python",
   "name": "python",
   "nbconvert_exporter": "python",
   "pygments_lexer": "ipython3",
   "version": "3.7.3"
  }
 },
 "nbformat": 4,
 "nbformat_minor": 2
}
