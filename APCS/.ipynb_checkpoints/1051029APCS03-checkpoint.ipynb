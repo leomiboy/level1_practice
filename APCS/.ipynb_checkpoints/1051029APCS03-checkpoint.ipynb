{
 "cells": [
  {
   "cell_type": "markdown",
   "metadata": {},
   "source": [
    "# 1051029APCS03 第3題 定時K彈"
   ]
  },
  {
   "cell_type": "code",
   "execution_count": 8,
   "metadata": {},
   "outputs": [
    {
     "name": "stdout",
     "output_type": "stream",
     "text": [
      "8 3 6\n",
      "4\n"
     ]
    }
   ],
   "source": [
    "line = list(map(int,input().split()))\n",
    "man = line[0]\n",
    "num = line[1]\n",
    "time = line[2]\n",
    "L =list(range(1,man+1))\n",
    "bomb = 0\n",
    "while bomb < time:\n",
    "    ans = L[num:]+L[:num-1]\n",
    "    bomb = bomb + 1\n",
    "print(ans[0])"
   ]
  },
  {
   "cell_type": "code",
   "execution_count": null,
   "metadata": {},
   "outputs": [],
   "source": []
  }
 ],
 "metadata": {
  "kernelspec": {
   "display_name": "Python 3",
   "language": "python",
   "name": "python3"
  },
  "language_info": {
   "codemirror_mode": {
    "name": "ipython",
    "version": 3
   },
   "file_extension": ".py",
   "mimetype": "text/x-python",
   "name": "python",
   "nbconvert_exporter": "python",
   "pygments_lexer": "ipython3",
   "version": "3.7.3"
  }
 },
 "nbformat": 4,
 "nbformat_minor": 2
}
