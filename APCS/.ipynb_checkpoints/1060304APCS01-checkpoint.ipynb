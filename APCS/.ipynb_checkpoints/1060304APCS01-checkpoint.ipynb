{
 "cells": [
  {
   "cell_type": "markdown",
   "metadata": {},
   "source": [
    "# 1060304APCS01 第1題 秘密差"
   ]
  },
  {
   "cell_type": "code",
   "execution_count": 5,
   "metadata": {},
   "outputs": [
    {
     "name": "stdout",
     "output_type": "stream",
     "text": [
      "131\n",
      "1\n"
     ]
    }
   ],
   "source": [
    "data = list(map(int,list(input())))\n",
    "odd = 0\n",
    "even = 0\n",
    "for i in range(len(data)):\n",
    "    if i % 2 == 0:\n",
    "        odd = odd + data[i]\n",
    "    else:\n",
    "        even = even + data[i]\n",
    "\n",
    "ans = odd - even\n",
    "if ans < 0:\n",
    "    ans = (-1)*ans\n",
    "print(ans)"
   ]
  },
  {
   "cell_type": "code",
   "execution_count": null,
   "metadata": {},
   "outputs": [],
   "source": []
  }
 ],
 "metadata": {
  "kernelspec": {
   "display_name": "Python 3",
   "language": "python",
   "name": "python3"
  },
  "language_info": {
   "codemirror_mode": {
    "name": "ipython",
    "version": 3
   },
   "file_extension": ".py",
   "mimetype": "text/x-python",
   "name": "python",
   "nbconvert_exporter": "python",
   "pygments_lexer": "ipython3",
   "version": "3.7.3"
  }
 },
 "nbformat": 4,
 "nbformat_minor": 2
}
