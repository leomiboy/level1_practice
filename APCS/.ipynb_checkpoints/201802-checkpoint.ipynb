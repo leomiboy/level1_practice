{
 "cells": [
  {
   "cell_type": "markdown",
   "metadata": {},
   "source": [
    "# 第二題 完全奇數  (寫法不太好)"
   ]
  },
  {
   "cell_type": "code",
   "execution_count": 9,
   "metadata": {},
   "outputs": [
    {
     "name": "stdout",
     "output_type": "stream",
     "text": [
      "135\n",
      "0\n"
     ]
    }
   ],
   "source": [
    "line = input()\n",
    "num = int(line)\n",
    "data = list(map(int,list(line)))\n",
    "c = 0\n",
    "bigL = []\n",
    "smallL = []\n",
    "for i in range(len(data)):#找最接近的大數\n",
    "    if c == 1:\n",
    "        bigL.append(1)\n",
    "        smallL.append(9)\n",
    "    else:\n",
    "        if data[i]%2 == 0:\n",
    "            if data[i] == 0:\n",
    "                smallL[i-1] = smallL[i-1] - 2\n",
    "                if smallL[i-1] < 0:\n",
    "                    smallL[i-1] = 0\n",
    "                smallL.append(9)  \n",
    "            else:\n",
    "                smallL.append(data[i]-1)\n",
    "            bigL.append(data[i] + 1)\n",
    "            c = 1\n",
    "        else:\n",
    "            bigL.append(data[i])\n",
    "            smallL.append(data[i])\n",
    "if c == 0:\n",
    "    ans = 0\n",
    "else:                    \n",
    "    b = int(''.join(list(map(str,bigL))))\n",
    "    s = int(''.join(list(map(str,smallL))))\n",
    "    if (b - num) > (num - s):\n",
    "        ans = num - s\n",
    "    else:\n",
    "        ans = b - num          \n",
    "print(ans)\n",
    "    \n",
    "        "
   ]
  },
  {
   "cell_type": "code",
   "execution_count": 4,
   "metadata": {},
   "outputs": [
    {
     "data": {
      "text/plain": [
       "[1, 3, 5]"
      ]
     },
     "execution_count": 4,
     "metadata": {},
     "output_type": "execute_result"
    }
   ],
   "source": []
  },
  {
   "cell_type": "code",
   "execution_count": null,
   "metadata": {},
   "outputs": [],
   "source": []
  }
 ],
 "metadata": {
  "kernelspec": {
   "display_name": "Python 3",
   "language": "python",
   "name": "python3"
  },
  "language_info": {
   "codemirror_mode": {
    "name": "ipython",
    "version": 3
   },
   "file_extension": ".py",
   "mimetype": "text/x-python",
   "name": "python",
   "nbconvert_exporter": "python",
   "pygments_lexer": "ipython3",
   "version": "3.7.3"
  }
 },
 "nbformat": 4,
 "nbformat_minor": 2
}
