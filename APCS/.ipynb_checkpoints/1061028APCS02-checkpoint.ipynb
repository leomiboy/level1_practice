{
 "cells": [
  {
   "cell_type": "markdown",
   "metadata": {},
   "source": [
    "# 1061028APCS02 第2題 交錯字串"
   ]
  },
  {
   "cell_type": "code",
   "execution_count": 1,
   "metadata": {},
   "outputs": [
    {
     "name": "stdout",
     "output_type": "stream",
     "text": [
      "3\n",
      "DDaasAAbbCC\n",
      "3\n"
     ]
    }
   ],
   "source": [
    "num = int(input())\n",
    "line = input()\n",
    "data = ''\n",
    "for i in line:\n",
    "    if i.islower():\n",
    "        data = data + '0'\n",
    "    else:\n",
    "        data = data + '1'      \n",
    "\n",
    "UP = \"1\"*num\n",
    "LO = \"0\"*num\n",
    "TU = 0\n",
    "TL = 0\n",
    "while (UP in data)|(LO in data):\n",
    "    if UP in data:\n",
    "        if TU%2 == 0:\n",
    "            UP = UP + \"0\"*num\n",
    "        else:\n",
    "            UP = UP + \"1\"*num\n",
    "        TU = TU + 1\n",
    "    elif LO in data:\n",
    "        if TL%2 == 0:\n",
    "            LO = LO + \"1\"*num\n",
    "        else:\n",
    "            LO = LO + \"0\"*num\n",
    "        TL = TL + 1\n",
    "    else:\n",
    "        break \n",
    "if len(UP) > len(LO):\n",
    "    MaxL = len(UP)-1*num\n",
    "else:\n",
    "    MaxL = len(LO)-1*num\n",
    "print(MaxL)"
   ]
  },
  {
   "cell_type": "code",
   "execution_count": null,
   "metadata": {},
   "outputs": [],
   "source": [
    "k =int(input())\n",
    "line = input()\n",
    "\n",
    "st = ''.join([str(int(x.isupper())) for x in line])\n",
    "\n",
    "pattern = ['0'*k,'1'*k]\n",
    "\n",
    "p0 = ''\n",
    "p1 = ''\n",
    "\n",
    "c = True\n",
    "m = 0\n",
    "\n",
    "while c:\n",
    "    p0 = p0 +pattern[m%2]\n",
    "    p1 = p1 +pattern[(m+1)%2]\n",
    "    \n",
    "    if (p0 in st) or (p1 in st):\n",
    "        m = m + 1\n",
    "    else:\n",
    "        c = False\n",
    "\n",
    "print(m*k)"
   ]
  }
 ],
 "metadata": {
  "kernelspec": {
   "display_name": "Python 3",
   "language": "python",
   "name": "python3"
  },
  "language_info": {
   "codemirror_mode": {
    "name": "ipython",
    "version": 3
   },
   "file_extension": ".py",
   "mimetype": "text/x-python",
   "name": "python",
   "nbconvert_exporter": "python",
   "pygments_lexer": "ipython3",
   "version": "3.7.3"
  }
 },
 "nbformat": 4,
 "nbformat_minor": 2
}
