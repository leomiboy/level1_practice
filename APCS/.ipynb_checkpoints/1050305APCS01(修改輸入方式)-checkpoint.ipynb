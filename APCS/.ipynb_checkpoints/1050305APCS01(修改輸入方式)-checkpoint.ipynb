{
 "cells": [
  {
   "cell_type": "markdown",
   "metadata": {},
   "source": [
    "# 1050305APCS01 第一題 成績指標"
   ]
  },
  {
   "cell_type": "code",
   "execution_count": 2,
   "metadata": {},
   "outputs": [
    {
     "name": "stdout",
     "output_type": "stream",
     "text": [
      "10\n",
      "11\n",
      "22\n",
      "33\n",
      "55\n",
      "66\n",
      "88\n",
      "77\n",
      "99\n",
      "33\n",
      "22\n",
      "11 22 22 33 33 55 66 77 88 99\n",
      "55\n",
      "66\n"
     ]
    }
   ],
   "source": [
    "num = int(input())\n",
    "L = []\n",
    "SL = []\n",
    "for i in range(num):\n",
    "    a = int(input())\n",
    "    L.append(a)\n",
    "    SL.append(str(a))\n",
    "    SL.sort()\n",
    "print(' '.join(SL))\n",
    "case = 0\n",
    "for i in range(len(L)):\n",
    "    if L[i] >= 60:\n",
    "        if i == 0:\n",
    "            print(L[i])\n",
    "            print('best case')\n",
    "            case = 1\n",
    "            break\n",
    "        else:\n",
    "            print(L[i-1])\n",
    "            print(L[i])\n",
    "            case = 2\n",
    "            break\n",
    "if  case == 0:\n",
    "    print(L[len(L)-1])\n",
    "    print('worst case')       "
   ]
  },
  {
   "cell_type": "markdown",
   "metadata": {},
   "source": []
  }
 ],
 "metadata": {
  "kernelspec": {
   "display_name": "Python 3",
   "language": "python",
   "name": "python3"
  },
  "language_info": {
   "codemirror_mode": {
    "name": "ipython",
    "version": 3
   },
   "file_extension": ".py",
   "mimetype": "text/x-python",
   "name": "python",
   "nbconvert_exporter": "python",
   "pygments_lexer": "ipython3",
   "version": "3.7.3"
  }
 },
 "nbformat": 4,
 "nbformat_minor": 2
}
