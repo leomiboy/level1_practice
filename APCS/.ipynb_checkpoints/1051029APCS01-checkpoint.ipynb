{
 "cells": [
  {
   "cell_type": "markdown",
   "metadata": {},
   "source": [
    "# 1051029APCS01 第1題 三角形辨別"
   ]
  },
  {
   "cell_type": "code",
   "execution_count": 5,
   "metadata": {},
   "outputs": [
    {
     "name": "stdout",
     "output_type": "stream",
     "text": [
      "10 100 10\n",
      "10 10 100\n",
      "No\n"
     ]
    }
   ],
   "source": [
    "data = list(map(int,input().split()))\n",
    "data.sort()\n",
    "stdata = list(map(str,data))\n",
    "print(' '.join(stdata))\n",
    "if data[0] + data[1] <= data[2]:\n",
    "    print('No')\n",
    "elif data[0]**2 + data[1]**2 < data[2]**2:\n",
    "    print('Obtuse')\n",
    "elif data[0]**2 + data[1]**2 == data[2]**2:\n",
    "    print('Right')\n",
    "else:\n",
    "    print('Acute')"
   ]
  },
  {
   "cell_type": "code",
   "execution_count": null,
   "metadata": {},
   "outputs": [],
   "source": []
  }
 ],
 "metadata": {
  "kernelspec": {
   "display_name": "Python 3",
   "language": "python",
   "name": "python3"
  },
  "language_info": {
   "codemirror_mode": {
    "name": "ipython",
    "version": 3
   },
   "file_extension": ".py",
   "mimetype": "text/x-python",
   "name": "python",
   "nbconvert_exporter": "python",
   "pygments_lexer": "ipython3",
   "version": "3.7.3"
  }
 },
 "nbformat": 4,
 "nbformat_minor": 2
}
