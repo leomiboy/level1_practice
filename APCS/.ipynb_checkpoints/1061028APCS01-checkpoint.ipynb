{
 "cells": [
  {
   "cell_type": "markdown",
   "metadata": {},
   "source": [
    "# 1061028APCS01 第1題 邏輯運算子"
   ]
  },
  {
   "cell_type": "code",
   "execution_count": 1,
   "metadata": {},
   "outputs": [
    {
     "name": "stdout",
     "output_type": "stream",
     "text": [
      "0 0 1\n",
      "IMPOSSIBLE\n"
     ]
    }
   ],
   "source": [
    "line = input()\n",
    "line = line.split()\n",
    "data1 = []\n",
    "data2 = []\n",
    "for i in line:\n",
    "    data1.append(int(i))\n",
    "for i in data1:\n",
    "    if i > 1:\n",
    "        data2.append(1)\n",
    "    else:\n",
    "        data2.append(i)\n",
    "c = 0\n",
    "if data2[0] & data2[1]==data2[2]:\n",
    "    print('AND')   \n",
    "    c = 1\n",
    "if data2[0] | data2[1]==data2[2]:\n",
    "    print('OR')\n",
    "    c = 1\n",
    "if data2[0] ^ data2[1]==data2[2]:\n",
    "    print('XOR')\n",
    "    c = 1\n",
    "if c == 0:\n",
    "    print('IMPOSSIBLE')"
   ]
  },
  {
   "cell_type": "code",
   "execution_count": null,
   "metadata": {},
   "outputs": [],
   "source": []
  }
 ],
 "metadata": {
  "kernelspec": {
   "display_name": "Python 3",
   "language": "python",
   "name": "python3"
  },
  "language_info": {
   "codemirror_mode": {
    "name": "ipython",
    "version": 3
   },
   "file_extension": ".py",
   "mimetype": "text/x-python",
   "name": "python",
   "nbconvert_exporter": "python",
   "pygments_lexer": "ipython3",
   "version": "3.7.3"
  }
 },
 "nbformat": 4,
 "nbformat_minor": 2
}
