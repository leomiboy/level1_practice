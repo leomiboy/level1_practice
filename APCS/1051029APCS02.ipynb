{
 "cells": [
  {
   "cell_type": "markdown",
   "metadata": {},
   "source": [
    "# 1051029APCS02 第2題 最大和"
   ]
  },
  {
   "cell_type": "code",
   "execution_count": 3,
   "metadata": {},
   "outputs": [
    {
     "name": "stdout",
     "output_type": "stream",
     "text": [
      "4 3\n",
      "6 3 2\n",
      "2 7 9\n",
      "4 7 1\n",
      "9 5 3\n",
      "31\n",
      "-1\n"
     ]
    }
   ],
   "source": [
    "num = list(map(int,input().split()))\n",
    "data = []\n",
    "for i in range(num[0]):\n",
    "    line = list(map(int,input().split()))\n",
    "    line.sort()\n",
    "    data.append(line)\n",
    "Msum = 0\n",
    "for i in range(num[0]):\n",
    "    Msum = Msum + data[i][-1]\n",
    "print(Msum)\n",
    "c = 0\n",
    "for i in range(num[0]):\n",
    "    if Msum % data[i][-1] == 0:\n",
    "        print(data[i][-1],end = ' ')\n",
    "        c = 1\n",
    "if c == 0:\n",
    "    print('-1')"
   ]
  },
  {
   "cell_type": "code",
   "execution_count": null,
   "metadata": {},
   "outputs": [],
   "source": []
  }
 ],
 "metadata": {
  "kernelspec": {
   "display_name": "Python 3",
   "language": "python",
   "name": "python3"
  },
  "language_info": {
   "codemirror_mode": {
    "name": "ipython",
    "version": 3
   },
   "file_extension": ".py",
   "mimetype": "text/x-python",
   "name": "python",
   "nbconvert_exporter": "python",
   "pygments_lexer": "ipython3",
   "version": "3.7.3"
  }
 },
 "nbformat": 4,
 "nbformat_minor": 2
}
