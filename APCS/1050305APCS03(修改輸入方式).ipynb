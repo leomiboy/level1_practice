{
 "cells": [
  {
   "cell_type": "markdown",
   "metadata": {},
   "source": [
    "# 1050305APCS03 第三題 線段覆蓋長度"
   ]
  },
  {
   "cell_type": "code",
   "execution_count": 8,
   "metadata": {},
   "outputs": [
    {
     "name": "stdout",
     "output_type": "stream",
     "text": [
      "5\n",
      "160 180\n",
      "150 200\n",
      "280 300\n",
      "300 330\n",
      "190 210\n",
      "110\n"
     ]
    }
   ],
   "source": [
    "num = int(input())\n",
    "L = []\n",
    "for i in range(num):\n",
    "    line = input()\n",
    "    line = line.split()\n",
    "    L.append(line)\n",
    "NL = []\n",
    "for i in L:\n",
    "    NL = NL + (list(range(int(i[0]),int(i[1])+1)))\n",
    "NL = list(set(NL))\n",
    "ans = len(NL)\n",
    "for j in L:\n",
    "    if int(j[1])+1 not in NL:\n",
    "        ans = ans - 1\n",
    "print(ans)"
   ]
  },
  {
   "cell_type": "markdown",
   "metadata": {},
   "source": []
  }
 ],
 "metadata": {
  "kernelspec": {
   "display_name": "Python 3",
   "language": "python",
   "name": "python3"
  },
  "language_info": {
   "codemirror_mode": {
    "name": "ipython",
    "version": 3
   },
   "file_extension": ".py",
   "mimetype": "text/x-python",
   "name": "python",
   "nbconvert_exporter": "python",
   "pygments_lexer": "ipython3",
   "version": "3.7.3"
  }
 },
 "nbformat": 4,
 "nbformat_minor": 2
}
