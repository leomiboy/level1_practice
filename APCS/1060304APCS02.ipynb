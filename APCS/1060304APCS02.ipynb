{
 "cells": [
  {
   "cell_type": "markdown",
   "metadata": {},
   "source": [
    "# 1060304APCS02 第2題 小群體"
   ]
  },
  {
   "cell_type": "code",
   "execution_count": 7,
   "metadata": {},
   "outputs": [
    {
     "name": "stdout",
     "output_type": "stream",
     "text": [
      "3\n",
      "0 2 1\n",
      "2\n"
     ]
    }
   ],
   "source": [
    "num = int(input())\n",
    "data = list(map(int,input().split()))\n",
    "ans =[]\n",
    "check = []\n",
    "while len(check) < len(data):\n",
    "    for i in range(len(data)):\n",
    "        if i not in check:\n",
    "            temp = [i,data[i]]\n",
    "            while data[i] != temp[0]:\n",
    "                i = data[i]\n",
    "                temp.append(data[i])\n",
    "            ans.append(temp)\n",
    "            check = check + temp\n",
    "print(len(ans))"
   ]
  },
  {
   "cell_type": "code",
   "execution_count": null,
   "metadata": {},
   "outputs": [],
   "source": []
  }
 ],
 "metadata": {
  "kernelspec": {
   "display_name": "Python 3",
   "language": "python",
   "name": "python3"
  },
  "language_info": {
   "codemirror_mode": {
    "name": "ipython",
    "version": 3
   },
   "file_extension": ".py",
   "mimetype": "text/x-python",
   "name": "python",
   "nbconvert_exporter": "python",
   "pygments_lexer": "ipython3",
   "version": "3.7.3"
  }
 },
 "nbformat": 4,
 "nbformat_minor": 2
}
