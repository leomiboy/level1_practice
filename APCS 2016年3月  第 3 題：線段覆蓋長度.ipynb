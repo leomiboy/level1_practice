{
 "cells": [
  {
   "cell_type": "markdown",
   "metadata": {},
   "source": [
    "## APCS 2016年3月\n",
    "## 第 3 題：線段覆蓋長度\n",
    "\n",
    "### 問題描述\n",
    "給定一維座標上一些線段，求這些線段所覆蓋的長度，注意，重疊的部分只能算一次。例如給定三個線段：(5, 6)、(1, 2)、(4, 8)、和(7, 9)，如下圖，線段覆蓋長度為6 。\n",
    "\n",
    "![](1050303.png)\n",
    "\n",
    "### 輸入格式：\n",
    "第一列是一個正整數 N，表示此測試案例有N個線段。\n",
    "接著的N列每一列是一個線段的開始端點座標和結束端點座標整數值，開始端點\n",
    "座標值小於等於結束端點座標值，兩者之間以一個空格區隔。\n",
    "\n",
    "### 輸出格式：\n",
    "輸出其總覆蓋的長度 。\n",
    "\n",
    "範例一：輸入\n",
    "\n",
    "    輸入        說明\n",
    "    \n",
    "    5           此測試案例有 5 個線段\n",
    "    160 180     開始端點座標值與結束端點座標\n",
    "    150 200     開始端點座標值與結束端點座標\n",
    "    280 300     開始端點座標值與結束端點座標\n",
    "    300 330     開始端點座標值與結束端點座標\n",
    "    190 210     開始端點座標值與結束端點座標\n",
    "    \n",
    "範例一：輸出\n",
    "\n",
    "    輸出        說明\n",
    "    110         測試案例的結果\n",
    "\n",
    "範例二：輸入\n",
    "\n",
    "    輸入        說明\n",
    "    1           此測試案例有 1 個線段\n",
    "    120 120     開始端點座標值與結束端點座標值\n",
    "\n",
    "範例二：輸出\n",
    "\n",
    "    輸出        說明\n",
    "    0           測試案例的結果\n",
    "\n",
    "### 評分說明\n",
    "\n",
    "```\n",
    "輸入包含若干筆測試資料，每一筆測試資料的執行時間限制(time limit)均為 2 秒，\n",
    "依正確通過測資筆數給分。每一個端點座標是一個介於0~M之間的整數，每筆測試案例線段個數上限為N。其中：\n",
    "第一子題組共 30 分，M< 1000 ，N<100，線段沒有重疊。\n",
    "第二子題組共 40 分，M< 1000 ，N< 100 ，線段可能重疊。\n",
    "第三子題組共 30 分，M< 10000000 ，N<1000 0 ，線段可能重疊。\n",
    "```\n",
    "\n",
    "範例檔下載(按右鍵另存連結)：[範例檔01](p3t01.txt) [範例檔02](p3t02.txt)"
   ]
  },
  {
   "cell_type": "code",
   "execution_count": 1,
   "metadata": {},
   "outputs": [
    {
     "name": "stdout",
     "output_type": "stream",
     "text": [
      "1\n",
      "120 120\n",
      "0\n"
     ]
    }
   ],
   "source": [
    "num = int(input())\n",
    "L = []\n",
    "for i in range(num):\n",
    "    line = input()\n",
    "    line = line.split()\n",
    "    L.append(line)\n",
    "NL = []\n",
    "for i in L:\n",
    "    NL = NL + (list(range(int(i[0]),int(i[1])+1)))\n",
    "NL = list(set(NL))\n",
    "ans = len(NL)\n",
    "for j in L:\n",
    "    if int(j[1])+1 not in NL:\n",
    "        ans = ans - 1\n",
    "print(ans)"
   ]
  },
  {
   "cell_type": "code",
   "execution_count": 5,
   "metadata": {},
   "outputs": [
    {
     "name": "stdout",
     "output_type": "stream",
     "text": [
      "110\n"
     ]
    }
   ],
   "source": [
    "!python p3.py < p3t01.txt"
   ]
  },
  {
   "cell_type": "code",
   "execution_count": 6,
   "metadata": {},
   "outputs": [
    {
     "name": "stdout",
     "output_type": "stream",
     "text": [
      "0\n"
     ]
    }
   ],
   "source": [
    "!python p3.py < p3t02.txt"
   ]
  },
  {
   "cell_type": "code",
   "execution_count": null,
   "metadata": {},
   "outputs": [],
   "source": []
  }
 ],
 "metadata": {
  "kernelspec": {
   "display_name": "Python 3",
   "language": "python",
   "name": "python3"
  },
  "language_info": {
   "codemirror_mode": {
    "name": "ipython",
    "version": 3
   },
   "file_extension": ".py",
   "mimetype": "text/x-python",
   "name": "python",
   "nbconvert_exporter": "python",
   "pygments_lexer": "ipython3",
   "version": "3.7.3"
  }
 },
 "nbformat": 4,
 "nbformat_minor": 2
}
