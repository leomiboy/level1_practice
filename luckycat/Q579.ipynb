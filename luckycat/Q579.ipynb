{
 "cells": [
  {
   "cell_type": "markdown",
   "metadata": {},
   "source": [
    "# Q579:ClockHands"
   ]
  },
  {
   "cell_type": "markdown",
   "metadata": {},
   "source": [
    "在一般的時鐘上通常有兩根指針：時針、分針。這個題目是告訴你幾點幾分，請你的程式回應時針和分針之間的角度。請注意：所有的角度請回應最小的正角度。例如：9:00是90度，不是 -90度，也不是270度。 "
   ]
  },
  {
   "cell_type": "markdown",
   "metadata": {},
   "source": [
    "### Input"
   ]
  },
  {
   "cell_type": "markdown",
   "metadata": {},
   "source": [
    "輸入是一連串的時間，每個時間一行，以下列的格式出現： H:M。\n",
    "\n",
    "1<= H <= 12         00<= M <=59\n",
    "\n",
    "如果時間是0:00代表輸入結束了。請注意：H可能是1或2位數，M則總是以2位數出現.。（也就是你在一般電子錶上看到的模式。）"
   ]
  },
  {
   "cell_type": "markdown",
   "metadata": {},
   "source": [
    "### Output"
   ]
  },
  {
   "cell_type": "markdown",
   "metadata": {},
   "source": [
    "請輸出對應輸入時間的時針和分針間的最小正角度。此角度應該介於0到180度。每個輸出單獨一行。每個輸出至小數點以下第三位。"
   ]
  },
  {
   "cell_type": "markdown",
   "metadata": {},
   "source": [
    "### Sample input"
   ]
  },
  {
   "cell_type": "markdown",
   "metadata": {},
   "source": [
    "    12:00\n",
    "    9:00\n",
    "    8:10\n",
    "    0:00 "
   ]
  },
  {
   "cell_type": "markdown",
   "metadata": {},
   "source": [
    "### Sample Output"
   ]
  },
  {
   "cell_type": "markdown",
   "metadata": {},
   "source": [
    "    0.000\n",
    "    90.000\n",
    "    175.000"
   ]
  },
  {
   "cell_type": "code",
   "execution_count": 4,
   "metadata": {},
   "outputs": [
    {
     "name": "stdout",
     "output_type": "stream",
     "text": [
      "12:00\n",
      "9:00\n",
      "8:10\n",
      "0:00\n",
      "0.000\n",
      "90.000\n",
      "175.000\n"
     ]
    }
   ],
   "source": [
    "data = []\n",
    "while True:\n",
    "    temp = list(map(int,input().split(':')))\n",
    "    if (temp[0] == 0)&(temp[1] == 0): \n",
    "        break\n",
    "    else:\n",
    "        data.append(temp)\n",
    "\n",
    "for i in data:\n",
    "    if i[0] == 12:\n",
    "        i[0] = 0\n",
    "    angle = float(abs((i[0]*5*6+i[1]*6/12)-i[1]*6))\n",
    "    if angle > 180:\n",
    "        angle = 360 - angle\n",
    "    print('%.3f' %angle)"
   ]
  },
  {
   "cell_type": "code",
   "execution_count": null,
   "metadata": {},
   "outputs": [],
   "source": []
  }
 ],
 "metadata": {
  "kernelspec": {
   "display_name": "Python 3",
   "language": "python",
   "name": "python3"
  },
  "language_info": {
   "codemirror_mode": {
    "name": "ipython",
    "version": 3
   },
   "file_extension": ".py",
   "mimetype": "text/x-python",
   "name": "python",
   "nbconvert_exporter": "python",
   "pygments_lexer": "ipython3",
   "version": "3.7.3"
  }
 },
 "nbformat": 4,
 "nbformat_minor": 2
}
