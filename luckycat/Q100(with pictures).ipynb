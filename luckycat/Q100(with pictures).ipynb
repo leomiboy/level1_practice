{
 "cells": [
  {
   "cell_type": "markdown",
   "metadata": {},
   "source": [
    "# (1星) Q100: The 3n + 1 problem"
   ]
  },
  {
   "cell_type": "code",
   "execution_count": 1,
   "metadata": {},
   "outputs": [],
   "source": [
    "def ogdata (x):#將字串中的數值取出，並以串列型態回傳\n",
    "    a = x.replace(\"\\n\",\"\") #將字串內的\\n去掉\n",
    "    b = a.split(\" \")#字串以空格分開\n",
    "    data = []\n",
    "    for i in b:\n",
    "        if i.isdigit():#如果字串內為數值\n",
    "            data.append(int(i))#將是數值的字串引入串列中\n",
    "    return data"
   ]
  },
  {
   "cell_type": "code",
   "execution_count": 2,
   "metadata": {},
   "outputs": [],
   "source": [
    "def lencounter(x,y):\n",
    "    if x > y:\n",
    "        Max = x\n",
    "        Min = y\n",
    "    else:\n",
    "        Max = y\n",
    "        Min = x\n",
    "    largest_len = 0\n",
    "    for i in range(Min,Max+1):\n",
    "        dataBase = [i]\n",
    "        result = i\n",
    "        while (result != 1):\n",
    "            if result%2 == 0:\n",
    "                result = result/2\n",
    "                dataBase.append(int(result))\n",
    "            else:\n",
    "                result =3*result + 1\n",
    "                dataBase.append(int(result))\n",
    "        if len(dataBase) > largest_len:\n",
    "            largest_len = len(dataBase)\n",
    "    return largest_len"
   ]
  },
  {
   "cell_type": "markdown",
   "metadata": {},
   "source": [
    "# luckycat Q100: The 3n + 1 problem"
   ]
  },
  {
   "cell_type": "code",
   "execution_count": 114,
   "metadata": {},
   "outputs": [],
   "source": [
    "def Q100(x):\n",
    "    f = list(open(x))\n",
    "    L = []\n",
    "    for i in f:\n",
    "        L.append(ogdata(i))\n",
    "    ans = []\n",
    "    for a in L:\n",
    "        ans.append(int(lencounter(a[0],a[1])))\n",
    "    for b in range(0,len(L)):\n",
    "        print(\"%d %d %d\" %(int(L[b][0]),int(L[b][1]),int(ans[b])))         "
   ]
  },
  {
   "cell_type": "code",
   "execution_count": 115,
   "metadata": {},
   "outputs": [
    {
     "name": "stdout",
     "output_type": "stream",
     "text": [
      "1 10 20\n",
      "10 1 20\n",
      "100 200 125\n",
      "201 210 89\n",
      "900 1000 174\n"
     ]
    }
   ],
   "source": [
    "Q100(\"Q100.txt\")"
   ]
  },
  {
   "cell_type": "code",
   "execution_count": 14,
   "metadata": {},
   "outputs": [],
   "source": [
    "def draw(x,y):\n",
    "    %matplotlib inline\n",
    "    import matplotlib.pyplot as plt\n",
    "    if x > y:\n",
    "        Max = x\n",
    "        Min = y\n",
    "    else:\n",
    "        Max = y\n",
    "        Min = x\n",
    "    for i in range(Min,Max+1):\n",
    "        dataBase = [i]\n",
    "        result = i\n",
    "        while (result != 1):\n",
    "            if result%2 == 0:\n",
    "                result = result/2\n",
    "                dataBase.append(int(result))\n",
    "            else:\n",
    "                result =3*result + 1\n",
    "                dataBase.append(int(result))\n",
    "        print(\"%d\" %(int(i)))\n",
    "        print(dataBase)\n",
    "        plt.plot(dataBase)\n",
    "    "
   ]
  },
  {
   "cell_type": "code",
   "execution_count": 25,
   "metadata": {},
   "outputs": [
    {
     "name": "stdout",
     "output_type": "stream",
     "text": [
      "30\n",
      "[30, 15, 46, 23, 70, 35, 106, 53, 160, 80, 40, 20, 10, 5, 16, 8, 4, 2, 1]\n",
      "31\n",
      "[31, 94, 47, 142, 71, 214, 107, 322, 161, 484, 242, 121, 364, 182, 91, 274, 137, 412, 206, 103, 310, 155, 466, 233, 700, 350, 175, 526, 263, 790, 395, 1186, 593, 1780, 890, 445, 1336, 668, 334, 167, 502, 251, 754, 377, 1132, 566, 283, 850, 425, 1276, 638, 319, 958, 479, 1438, 719, 2158, 1079, 3238, 1619, 4858, 2429, 7288, 3644, 1822, 911, 2734, 1367, 4102, 2051, 6154, 3077, 9232, 4616, 2308, 1154, 577, 1732, 866, 433, 1300, 650, 325, 976, 488, 244, 122, 61, 184, 92, 46, 23, 70, 35, 106, 53, 160, 80, 40, 20, 10, 5, 16, 8, 4, 2, 1]\n",
      "32\n",
      "[32, 16, 8, 4, 2, 1]\n",
      "33\n",
      "[33, 100, 50, 25, 76, 38, 19, 58, 29, 88, 44, 22, 11, 34, 17, 52, 26, 13, 40, 20, 10, 5, 16, 8, 4, 2, 1]\n",
      "34\n",
      "[34, 17, 52, 26, 13, 40, 20, 10, 5, 16, 8, 4, 2, 1]\n",
      "35\n",
      "[35, 106, 53, 160, 80, 40, 20, 10, 5, 16, 8, 4, 2, 1]\n"
     ]
    },
    {
     "data": {
      "image/png": "[encoded data removed]",
      "text/plain": [
       "<Figure size 432x288 with 1 Axes>"
      ]
     },
     "metadata": {
      "needs_background": "light"
     },
     "output_type": "display_data"
    }
   ],
   "source": [
    "draw(30,35)"
   ]
  },
  {
   "cell_type": "code",
   "execution_count": null,
   "metadata": {},
   "outputs": [],
   "source": []
  }
 ],
 "metadata": {
  "kernelspec": {
   "display_name": "Python 3",
   "language": "python",
   "name": "python3"
  },
  "language_info": {
   "codemirror_mode": {
    "name": "ipython",
    "version": 3
   },
   "file_extension": ".py",
   "mimetype": "text/x-python",
   "name": "python",
   "nbconvert_exporter": "python",
   "pygments_lexer": "ipython3",
   "version": "3.7.3"
  }
 },
 "nbformat": 4,
 "nbformat_minor": 2
}
