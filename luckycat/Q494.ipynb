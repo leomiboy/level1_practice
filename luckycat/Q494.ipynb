{
 "cells": [
  {
   "cell_type": "markdown",
   "metadata": {},
   "source": [
    "# Q494: Kindergarten Counting Game"
   ]
  },
  {
   "cell_type": "markdown",
   "metadata": {},
   "source": [
    "算一算每行有幾個字（word）。\n",
    "Word的定義是連續的字元（letter: A~Z a~z）所組成的字。"
   ]
  },
  {
   "cell_type": "markdown",
   "metadata": {},
   "source": [
    "### Input"
   ]
  },
  {
   "cell_type": "markdown",
   "metadata": {},
   "source": [
    "測試資料每筆一行，每行至少有一個字。"
   ]
  },
  {
   "cell_type": "markdown",
   "metadata": {},
   "source": [
    "### Output"
   ]
  },
  {
   "cell_type": "markdown",
   "metadata": {},
   "source": [
    "輸出每一行的word數。"
   ]
  },
  {
   "cell_type": "markdown",
   "metadata": {},
   "source": [
    "### Sample input"
   ]
  },
  {
   "cell_type": "markdown",
   "metadata": {},
   "source": [
    "    Meep Meep!\n",
    "    I tot I taw a putty tat.\n",
    "    I did! I did! I did taw a putty tat.\n",
    "    Shsssssssssh ... I am hunting wabbits. Heh Heh Heh Heh ..."
   ]
  },
  {
   "cell_type": "markdown",
   "metadata": {},
   "source": [
    "### Sample Output"
   ]
  },
  {
   "cell_type": "markdown",
   "metadata": {},
   "source": [
    "    2\n",
    "    7\n",
    "    10\n",
    "    9"
   ]
  },
  {
   "cell_type": "code",
   "execution_count": 2,
   "metadata": {},
   "outputs": [
    {
     "name": "stdout",
     "output_type": "stream",
     "text": [
      "4\n",
      "Meep Meep!\n",
      "I tot I taw a putty tat.\n",
      "I did! I did! I did taw a putty tat.\n",
      "Shsssssssssh ... I am hunting wabbits. Heh Heh Heh Heh ...\n",
      "2\n",
      "7\n",
      "10\n",
      "9\n"
     ]
    }
   ],
   "source": [
    "num = int(input())\n",
    "data = []\n",
    "for i in range(num):\n",
    "    data.append(input().split())\n",
    "for i in range(num):\n",
    "    print(len(data[i])-data[i].count('...'))"
   ]
  },
  {
   "cell_type": "code",
   "execution_count": null,
   "metadata": {},
   "outputs": [],
   "source": []
  }
 ],
 "metadata": {
  "kernelspec": {
   "display_name": "Python 3",
   "language": "python",
   "name": "python3"
  },
  "language_info": {
   "codemirror_mode": {
    "name": "ipython",
    "version": 3
   },
   "file_extension": ".py",
   "mimetype": "text/x-python",
   "name": "python",
   "nbconvert_exporter": "python",
   "pygments_lexer": "ipython3",
   "version": "3.7.3"
  }
 },
 "nbformat": 4,
 "nbformat_minor": 2
}
