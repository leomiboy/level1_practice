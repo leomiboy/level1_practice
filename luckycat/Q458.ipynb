{
 "cells": [
  {
   "cell_type": "markdown",
   "metadata": {},
   "source": [
    "# Q458: The Decoder"
   ]
  },
  {
   "cell_type": "code",
   "execution_count": 26,
   "metadata": {},
   "outputs": [],
   "source": [
    "def ogdata(x):\n",
    "    data = []\n",
    "    for i in x:\n",
    "        i = i.replace('\\n','')\n",
    "        data.append(i)\n",
    "    return data"
   ]
  },
  {
   "cell_type": "code",
   "execution_count": 32,
   "metadata": {},
   "outputs": [],
   "source": [
    "def transfer(x,y):#x為輸入之字串，y為ASCII碼位移數\n",
    "    L = list(x)\n",
    "    NL = []\n",
    "    for i in L:\n",
    "        i = chr(ord(i) + y)\n",
    "        NL.append(i)\n",
    "    s = ''\n",
    "    for j in NL:\n",
    "        s = s + str(j) \n",
    "    return s"
   ]
  },
  {
   "cell_type": "code",
   "execution_count": 33,
   "metadata": {},
   "outputs": [],
   "source": [
    "def Q458(x,y):#x為文字檔名.txt，y為ASCII碼位移數\n",
    "    s = ogdata(list(open(x)))\n",
    "    ans = []\n",
    "    for i in range(len(s)):\n",
    "        ans.append(transfer(s[i],y))\n",
    "    for j in ans:\n",
    "        print('%s' %(j))"
   ]
  },
  {
   "cell_type": "code",
   "execution_count": 34,
   "metadata": {},
   "outputs": [
    {
     "name": "stdout",
     "output_type": "stream",
     "text": [
      "*CDC is the trademark of the Control Data Corporation.\n",
      "*IBM is a trademark of the International Business Machine Corporation.\n",
      "*DEC is the trademark of the Digital Equipment Corporation.\n"
     ]
    }
   ],
   "source": [
    "Q458('Q458.txt',-7)"
   ]
  },
  {
   "cell_type": "code",
   "execution_count": null,
   "metadata": {},
   "outputs": [],
   "source": []
  }
 ],
 "metadata": {
  "kernelspec": {
   "display_name": "Python 3",
   "language": "python",
   "name": "python3"
  },
  "language_info": {
   "codemirror_mode": {
    "name": "ipython",
    "version": 3
   },
   "file_extension": ".py",
   "mimetype": "text/x-python",
   "name": "python",
   "nbconvert_exporter": "python",
   "pygments_lexer": "ipython3",
   "version": "3.7.3"
  }
 },
 "nbformat": 4,
 "nbformat_minor": 2
}
