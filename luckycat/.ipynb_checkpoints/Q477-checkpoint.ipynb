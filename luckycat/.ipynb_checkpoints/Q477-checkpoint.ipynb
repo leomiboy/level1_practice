{
 "cells": [
  {
   "cell_type": "markdown",
   "metadata": {},
   "source": [
    "# Q477: Points in Figures: Rectangles and Circles"
   ]
  },
  {
   "cell_type": "code",
   "execution_count": 35,
   "metadata": {},
   "outputs": [
    {
     "name": "stdout",
     "output_type": "stream",
     "text": [
      "*\n",
      "9999.9 9999.9\n"
     ]
    }
   ],
   "source": [
    "####輸入資料\n",
    "fig = []\n",
    "pot = []\n",
    "while 1:\n",
    "    a = input()\n",
    "    if a =='*':\n",
    "        break\n",
    "    else:\n",
    "        fig.append(a)\n",
    "while 1:\n",
    "    b = input()\n",
    "    if b =='9999.9 9999.9':\n",
    "        break\n",
    "    else:\n",
    "        pot.append(b)\n",
    "\n",
    "####定義檢核函數\n",
    "def check(p,f):\n",
    "    pd = list(map(float,p.split()))\n",
    "    fd = list(f.split())\n",
    "    if fd[0]==\"r\":\n",
    "        fd.pop(0)\n",
    "        fd = list(map(float,fd))\n",
    "        if (fd[0]<pd[0])&(pd[0]<fd[2])&(fd[1]>pd[1])&(pd[1]>fd[3]):\n",
    "            return 1\n",
    "        else:\n",
    "            return 0\n",
    "    else:\n",
    "        fd.pop(0)\n",
    "        fd = list(map(float,fd))\n",
    "        if (fd[0]-pd[0])**2+((fd[1]-pd[1]))**2 < (fd[2])**2:\n",
    "            return 1\n",
    "        else:\n",
    "            return 0\n",
    "    \n",
    "for i in range(1,len(pot)+1):\n",
    "    c = 0\n",
    "    for j in range(1,len(fig)+1):\n",
    "        if check(pot[i-1],fig[j-1])== 1:\n",
    "            print(f'Point {i} is contained in figure {j}')\n",
    "            c = 1\n",
    "    if c == 0:\n",
    "        print(f'Point {i} is not contained in any figure') "
   ]
  },
  {
   "cell_type": "code",
   "execution_count": 36,
   "metadata": {},
   "outputs": [
    {
     "name": "stdout",
     "output_type": "stream",
     "text": [
      "File `p1.py` exists. Overwrite (y/[N])?  y\n",
      "The following commands were written to file `p1.py`:\n",
      "####輸入資料\n",
      "fig = []\n",
      "pot = []\n",
      "while 1:\n",
      "    a = input()\n",
      "    if a =='*':\n",
      "        break\n",
      "    else:\n",
      "        fig.append(a)\n",
      "while 1:\n",
      "    b = input()\n",
      "    if b =='9999.9 9999.9':\n",
      "        break\n",
      "    else:\n",
      "        pot.append(b)\n",
      "\n",
      "####定義檢核函數\n",
      "def check(p,f):\n",
      "    pd = list(map(float,p.split()))\n",
      "    fd = list(f.split())\n",
      "    if fd[0]==\"r\":\n",
      "        fd.pop(0)\n",
      "        fd = list(map(float,fd))\n",
      "        if (fd[0]<pd[0])&(pd[0]<fd[2])&(fd[1]>pd[1])&(pd[1]>fd[3]):\n",
      "            return 1\n",
      "        else:\n",
      "            return 0\n",
      "    else:\n",
      "        fd.pop(0)\n",
      "        fd = list(map(float,fd))\n",
      "        if (fd[0]-pd[0])**2+((fd[1]-pd[1]))**2 < (fd[2])**2:\n",
      "            return 1\n",
      "        else:\n",
      "            return 0\n",
      "    \n",
      "for i in range(1,len(pot)+1):\n",
      "    c = 0\n",
      "    for j in range(1,len(fig)+1):\n",
      "        if check(pot[i-1],fig[j-1])== 1:\n",
      "            print(f'Point {i} is contained in figure {j}')\n",
      "            c = 1\n",
      "    if c == 0:\n",
      "        print(f'Point {i} is not contained in any figure') \n"
     ]
    }
   ],
   "source": [
    "%save \"p1.py\" 35 "
   ]
  },
  {
   "cell_type": "code",
   "execution_count": 37,
   "metadata": {},
   "outputs": [
    {
     "name": "stdout",
     "output_type": "stream",
     "text": [
      "Point 1 is contained in figure 3\n",
      "Point 2 is contained in figure 3\n",
      "Point 2 is contained in figure 5\n",
      "Point 3 is contained in figure 5\n",
      "Point 3 is contained in figure 6\n",
      "Point 4 is not contained in any figure\n",
      "Point 5 is contained in figure 1\n",
      "Point 5 is contained in figure 2\n",
      "Point 6 is contained in figure 4\n"
     ]
    }
   ],
   "source": [
    "!python p1.py < Q477.txt"
   ]
  }
 ],
 "metadata": {
  "kernelspec": {
   "display_name": "Python 3",
   "language": "python",
   "name": "python3"
  },
  "language_info": {
   "codemirror_mode": {
    "name": "ipython",
    "version": 3
   },
   "file_extension": ".py",
   "mimetype": "text/x-python",
   "name": "python",
   "nbconvert_exporter": "python",
   "pygments_lexer": "ipython3",
   "version": "3.7.3"
  }
 },
 "nbformat": 4,
 "nbformat_minor": 2
}
