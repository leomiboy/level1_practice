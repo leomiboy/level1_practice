{
 "cells": [
  {
   "cell_type": "markdown",
   "metadata": {},
   "source": [
    "# Q488：Triangle Wave"
   ]
  },
  {
   "cell_type": "markdown",
   "metadata": {},
   "source": [
    "在這個問題中，根據所給的振幅(Amplitude)及頻率(Frequency)，你的程式要產生這樣的波。"
   ]
  },
  {
   "cell_type": "markdown",
   "metadata": {},
   "source": [
    "### Input"
   ]
  },
  {
   "cell_type": "markdown",
   "metadata": {},
   "source": [
    "輸入的第一列有一個整數n，代表有幾組測試資料。接下來每組測試資料有2列，各有1個正整數（A、F），A代表振幅（A<=9），F代表頻率。第一列以及各組測試資料間皆有一空白行。請參考Sample input。"
   ]
  },
  {
   "cell_type": "markdown",
   "metadata": {},
   "source": [
    "### Output"
   ]
  },
  {
   "cell_type": "markdown",
   "metadata": {},
   "source": [
    "每組測試資料請輸出F個波，每個波振幅的水平高度為A。波本身是以其\"高度\"的內容所組成。每個波之間以一空白行分隔開來。測試資料間也以一空白行分開。請參考sample output。"
   ]
  },
  {
   "cell_type": "markdown",
   "metadata": {},
   "source": [
    "### Sample input"
   ]
  },
  {
   "cell_type": "markdown",
   "metadata": {},
   "source": [
    "    2\n",
    "\n",
    "    3\n",
    "    2\n",
    "\n",
    "    5\n",
    "    3"
   ]
  },
  {
   "cell_type": "markdown",
   "metadata": {},
   "source": [
    "### Sample Output"
   ]
  },
  {
   "cell_type": "markdown",
   "metadata": {},
   "source": [
    "    1\n",
    "    22\n",
    "    333\n",
    "    22\n",
    "    1\n",
    "\n",
    "    1\n",
    "    22\n",
    "    333\n",
    "    22\n",
    "    1\n",
    "\n",
    "    1\n",
    "    22\n",
    "    333\n",
    "    4444\n",
    "    55555\n",
    "    4444\n",
    "    333\n",
    "    22\n",
    "    1\n",
    "\n",
    "    1\n",
    "    22\n",
    "    333\n",
    "    4444\n",
    "    55555\n",
    "    4444\n",
    "    333\n",
    "    22\n",
    "    1\n",
    "\n",
    "    1\n",
    "    22\n",
    "    333\n",
    "    4444\n",
    "    55555\n",
    "    4444\n",
    "    333\n",
    "    22\n",
    "    1"
   ]
  },
  {
   "cell_type": "code",
   "execution_count": 3,
   "metadata": {},
   "outputs": [
    {
     "name": "stdout",
     "output_type": "stream",
     "text": [
      "2\n",
      "\n",
      "3\n",
      "2\n",
      "\n",
      "5\n",
      "3\n",
      "\n",
      "1\n",
      "22\n",
      "333\n",
      "22\n",
      "1\n",
      "\n",
      "1\n",
      "22\n",
      "333\n",
      "22\n",
      "1\n",
      "\n",
      "1\n",
      "22\n",
      "333\n",
      "4444\n",
      "55555\n",
      "4444\n",
      "333\n",
      "22\n",
      "1\n",
      "\n",
      "1\n",
      "22\n",
      "333\n",
      "4444\n",
      "55555\n",
      "4444\n",
      "333\n",
      "22\n",
      "1\n",
      "\n",
      "1\n",
      "22\n",
      "333\n",
      "4444\n",
      "55555\n",
      "4444\n",
      "333\n",
      "22\n",
      "1\n"
     ]
    }
   ],
   "source": [
    "num = int(input())\n",
    "data = []\n",
    "for i in range(num):\n",
    "    temp = []\n",
    "    for j in range(3):\n",
    "        n = input()\n",
    "        if n != '':\n",
    "            temp.append(int(n))\n",
    "    data.append(temp)\n",
    "\n",
    "for i in range(num):\n",
    "    for j in range(data[i][1]):\n",
    "        print()\n",
    "        for k in range(data[i][0]):\n",
    "            print(str(k+1)*(k+1))\n",
    "        for l in range(data[i][0]-1):\n",
    "            print(str(data[i][0]-1-l)*(data[i][0]-1-l))\n"
   ]
  },
  {
   "cell_type": "code",
   "execution_count": null,
   "metadata": {},
   "outputs": [],
   "source": []
  }
 ],
 "metadata": {
  "kernelspec": {
   "display_name": "Python 3",
   "language": "python",
   "name": "python3"
  },
  "language_info": {
   "codemirror_mode": {
    "name": "ipython",
    "version": 3
   },
   "file_extension": ".py",
   "mimetype": "text/x-python",
   "name": "python",
   "nbconvert_exporter": "python",
   "pygments_lexer": "ipython3",
   "version": "3.7.3"
  }
 },
 "nbformat": 4,
 "nbformat_minor": 2
}
