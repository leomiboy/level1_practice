{
 "cells": [
  {
   "cell_type": "markdown",
   "metadata": {},
   "source": [
    "# Q913: Joana and the Odd Numbers"
   ]
  },
  {
   "cell_type": "markdown",
   "metadata": {},
   "source": [
    "Joana喜歡玩關於奇數的遊戲。有一天，她開始寫，每列都是奇數，如下表。\n",
    "     \n",
    "     1\n",
    "     3  5  7\n",
    "     9 11 13 15 17\n",
    "    19 21 23 25 27 29 31\n",
    "    ...\n",
    "\n",
    "在某一列Joana寫下了55個奇數數字，你可以看出該列最後3個數字的和嗎？\n",
    "給你一個數字N，代表某一列有N個奇數數字，你的任務是把該列最後三個數加起來。 "
   ]
  },
  {
   "cell_type": "markdown",
   "metadata": {},
   "source": [
    "### Input"
   ]
  },
  {
   "cell_type": "markdown",
   "metadata": {},
   "source": [
    "輸入含有多組測試資料。每組測試資料一列，有一個數字 N，表示某一列有 N 個奇數數字（1 < N < 1000000000）。"
   ]
  },
  {
   "cell_type": "markdown",
   "metadata": {},
   "source": [
    "### Output"
   ]
  },
  {
   "cell_type": "markdown",
   "metadata": {},
   "source": [
    "對每組測試資料，輸出該列的最後三個數字的和。本問題中保證三個數字的和一定小於2$^6$$^3$。"
   ]
  },
  {
   "cell_type": "markdown",
   "metadata": {},
   "source": [
    "### Sample input"
   ]
  },
  {
   "cell_type": "markdown",
   "metadata": {},
   "source": [
    "    3\n",
    "    5\n",
    "    7"
   ]
  },
  {
   "cell_type": "markdown",
   "metadata": {},
   "source": [
    "### Sample Output"
   ]
  },
  {
   "cell_type": "markdown",
   "metadata": {},
   "source": [
    "    15\n",
    "    45\n",
    "    87"
   ]
  },
  {
   "cell_type": "code",
   "execution_count": 14,
   "metadata": {},
   "outputs": [
    {
     "name": "stdout",
     "output_type": "stream",
     "text": [
      "3\n",
      "5\n",
      "7\n",
      "0\n",
      "15\n",
      "45\n",
      "87\n"
     ]
    }
   ],
   "source": [
    "data = []\n",
    "while True:\n",
    "    num = int(input())\n",
    "    if num == 0:\n",
    "        break\n",
    "    else:\n",
    "        data.append(num)\n",
    "\n",
    "for i in data:\n",
    "    tlnum = sum(list(range(i,0,-2)))\n",
    "    tempL = list(range(1,tlnum*2,2))\n",
    "    print(sum(tempL[-3:]))"
   ]
  },
  {
   "cell_type": "code",
   "execution_count": null,
   "metadata": {},
   "outputs": [],
   "source": []
  }
 ],
 "metadata": {
  "kernelspec": {
   "display_name": "Python 3",
   "language": "python",
   "name": "python3"
  },
  "language_info": {
   "codemirror_mode": {
    "name": "ipython",
    "version": 3
   },
   "file_extension": ".py",
   "mimetype": "text/x-python",
   "name": "python",
   "nbconvert_exporter": "python",
   "pygments_lexer": "ipython3",
   "version": "3.7.3"
  }
 },
 "nbformat": 4,
 "nbformat_minor": 2
}
