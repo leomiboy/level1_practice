{
 "cells": [
  {
   "cell_type": "markdown",
   "metadata": {},
   "source": [
    "# Q10035: Primary Arithmetic"
   ]
  },
  {
   "cell_type": "markdown",
   "metadata": {},
   "source": [
    "在小學時我們都做過加法的運算，就是把2個整數靠右對齊然後，由右至左一位一位相加。如果相加的結果大於等於10就有進位（carry）的情況出現。你的任務就是要判斷2個整數相加時產生了幾次進位的情況。這將幫助小學老師分析加法題目的難度。"
   ]
  },
  {
   "cell_type": "markdown",
   "metadata": {},
   "source": [
    "### Input"
   ]
  },
  {
   "cell_type": "markdown",
   "metadata": {},
   "source": [
    "每一列測試資料有2個正整數，長度均小於10位。最後一列有2個0代表輸入結束。"
   ]
  },
  {
   "cell_type": "markdown",
   "metadata": {},
   "source": [
    "### Output"
   ]
  },
  {
   "cell_type": "markdown",
   "metadata": {},
   "source": [
    "每列測試資料輸出該2數相加時產生多少次進位，請參考Sample Output。注意進位超過1次時operation有加s"
   ]
  },
  {
   "cell_type": "markdown",
   "metadata": {},
   "source": [
    "### Sample input"
   ]
  },
  {
   "cell_type": "markdown",
   "metadata": {},
   "source": [
    "    123 456\n",
    "    555 555\n",
    "    123 594\n",
    "    0 0"
   ]
  },
  {
   "cell_type": "markdown",
   "metadata": {},
   "source": [
    "### Sample Output"
   ]
  },
  {
   "cell_type": "markdown",
   "metadata": {},
   "source": [
    "    No carry operation.\n",
    "    3 carry operations.\n",
    "    1 carry operation."
   ]
  },
  {
   "cell_type": "code",
   "execution_count": 15,
   "metadata": {},
   "outputs": [
    {
     "name": "stdout",
     "output_type": "stream",
     "text": [
      "123 456\n",
      "555 555\n",
      "123 594\n",
      "12345 678\n",
      "0 0\n",
      "No carry operation.\n",
      "3 carry operations.\n",
      "1 carry operations.\n",
      "3 carry operations.\n"
     ]
    }
   ],
   "source": [
    "data = []\n",
    "while True:\n",
    "    temp = input()\n",
    "    if temp == '0 0':\n",
    "        break\n",
    "    else:\n",
    "        temp = list(temp.split())\n",
    "        data.append(temp)\n",
    "\n",
    "for i in data:\n",
    "    long = i[0] \n",
    "    short = i[1]\n",
    "    if len(long) < len(short):\n",
    "        tem = long\n",
    "        long = short\n",
    "        short = tem\n",
    "    if len(long) > len(short):\n",
    "        for j in range(len(long)-len(short)):\n",
    "            short = '0' + short\n",
    "    long =list(map(int,list(long)))\n",
    "    short = list(map(int,list(short)))\n",
    "    count = 0\n",
    "    for k in range(-1,(-1)*len(long)-1,-1):\n",
    "        if long[k]+short[k]>9:\n",
    "            count = count + 1\n",
    "            if k > (-1)*len(long):\n",
    "                long[k-1] = long[k-1] + 1\n",
    "    if count == 0:\n",
    "        print('No carry operation.')\n",
    "    else:\n",
    "        print(f'{count} carry operations.')\n",
    "            \n",
    "            "
   ]
  },
  {
   "cell_type": "code",
   "execution_count": null,
   "metadata": {},
   "outputs": [],
   "source": []
  }
 ],
 "metadata": {
  "kernelspec": {
   "display_name": "Python 3",
   "language": "python",
   "name": "python3"
  },
  "language_info": {
   "codemirror_mode": {
    "name": "ipython",
    "version": 3
   },
   "file_extension": ".py",
   "mimetype": "text/x-python",
   "name": "python",
   "nbconvert_exporter": "python",
   "pygments_lexer": "ipython3",
   "version": "3.7.3"
  }
 },
 "nbformat": 4,
 "nbformat_minor": 2
}
