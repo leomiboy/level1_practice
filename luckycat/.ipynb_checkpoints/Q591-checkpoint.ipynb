{
 "cells": [
  {
   "cell_type": "markdown",
   "metadata": {},
   "source": [
    "# Q591:Box of Bricks"
   ]
  },
  {
   "cell_type": "markdown",
   "metadata": {},
   "source": [
    "3歲的小明喜歡玩他的方塊積木，他總是把方塊疊在一起形成高度不一的方塊堆。然後他說：這是一面牆。5歲的姊姊小美聽到了就跟小明說：真正的牆高度應該要一樣才行。小明聽了覺得有道理於是決定要搬動一些方塊使所有方塊堆的高度一樣。如下圖。由於小明是個懶惰的小孩，他想要搬動最小數目的方塊以達成這個目的，你能幫助他嗎？\n",
    "\n",
    "![](Q591.gif)"
   ]
  },
  {
   "cell_type": "markdown",
   "metadata": {},
   "source": [
    "### Input"
   ]
  },
  {
   "cell_type": "markdown",
   "metadata": {},
   "source": [
    "輸入包含好幾組資料，每組資料有2行，第一行有一個數字n，代表有幾堆方塊。第二行有n個數字分別代表這n堆方塊的高度hi。你可以假設1<=n<=50  1<=hi<=100\n",
    "方塊的總數一定可以整除堆數n，也就是說一定可以使所有的方塊堆同樣高度。\n",
    "如果輸入的n=0，代表輸入結束。"
   ]
  },
  {
   "cell_type": "markdown",
   "metadata": {},
   "source": [
    "### Output"
   ]
  },
  {
   "cell_type": "markdown",
   "metadata": {},
   "source": [
    "對每一組輸入資料，首先輸出一行這是第幾組測試資料，下一行為\"The minimum number of moves is k.\" k在這裡就是需搬動方塊最小的數目以使所有的方塊堆同一高度。每組測試資料後亦請空一行。請參考Sample Output. "
   ]
  },
  {
   "cell_type": "markdown",
   "metadata": {},
   "source": [
    "### Sample input"
   ]
  },
  {
   "cell_type": "markdown",
   "metadata": {},
   "source": [
    "    6\n",
    "    5 2 4 1 7 5\n",
    "    3\n",
    "    1 1 1\n",
    "    0"
   ]
  },
  {
   "cell_type": "markdown",
   "metadata": {},
   "source": [
    "### Sample Output"
   ]
  },
  {
   "cell_type": "markdown",
   "metadata": {},
   "source": [
    "    Set #1\n",
    "    The minimum number of moves is 5.\n",
    "\n",
    "    Set #2\n",
    "    The minimum number of moves is 0."
   ]
  },
  {
   "cell_type": "code",
   "execution_count": 5,
   "metadata": {},
   "outputs": [
    {
     "name": "stdout",
     "output_type": "stream",
     "text": [
      "6\n",
      "5 2 4 1 7 5\n",
      "3\n",
      "1 1 1\n",
      "0\n",
      "Set #1\n",
      "The minimum number of moves is 5.\n",
      "Set #2\n",
      "The minimum number of moves is 0.\n"
     ]
    }
   ],
   "source": [
    "data = []\n",
    "while True:\n",
    "    num = int(input()) \n",
    "    if num == 0:\n",
    "        break\n",
    "    else:  \n",
    "        temp = []\n",
    "        temp.append(num)\n",
    "        temp = temp + list(map(int,input().split()))\n",
    "        data.append(temp)\n",
    "s = 1\n",
    "for i in data:\n",
    "    m = sum(i[1:])/i[0]\n",
    "    ans = 0\n",
    "    for j in range(1,len(i)):\n",
    "        if i[j] < m:\n",
    "            ans = ans + (m-i[j])\n",
    "    print(f'Set #{s}')\n",
    "    print(f'The minimum number of moves is {int(ans)}.')\n",
    "    s = s + 1"
   ]
  },
  {
   "cell_type": "code",
   "execution_count": null,
   "metadata": {},
   "outputs": [],
   "source": []
  }
 ],
 "metadata": {
  "kernelspec": {
   "display_name": "Python 3",
   "language": "python",
   "name": "python3"
  },
  "language_info": {
   "codemirror_mode": {
    "name": "ipython",
    "version": 3
   },
   "file_extension": ".py",
   "mimetype": "text/x-python",
   "name": "python",
   "nbconvert_exporter": "python",
   "pygments_lexer": "ipython3",
   "version": "3.7.3"
  }
 },
 "nbformat": 4,
 "nbformat_minor": 2
}
