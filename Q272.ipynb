{
 "cells": [
  {
   "cell_type": "markdown",
   "metadata": {},
   "source": [
    "# Q272: TeX Quotes"
   ]
  },
  {
   "cell_type": "code",
   "execution_count": 4,
   "metadata": {},
   "outputs": [],
   "source": [
    "def ogdata(x):#將文章整理成以\"為分割的字串串列\n",
    "    s = ''\n",
    "    for i in (range(0,len(x))):\n",
    "        s = s + x[i]\n",
    "    s = s.split('\"')\n",
    "    s.pop(0)\n",
    "    s.pop()\n",
    "    return s"
   ]
  },
  {
   "cell_type": "code",
   "execution_count": 5,
   "metadata": {},
   "outputs": [],
   "source": [
    "def Q272(x):\n",
    "    s = ogdata(list(open(x)))\n",
    "    ans =''\n",
    "    for i in range(0,len(s)):\n",
    "        if i%2 == 0:\n",
    "            ans = ans +'``'+s[i]+'\"'\n",
    "        else:\n",
    "            ans = ans +s[i]\n",
    "    print(ans)"
   ]
  },
  {
   "cell_type": "code",
   "execution_count": 6,
   "metadata": {},
   "outputs": [
    {
     "name": "stdout",
     "output_type": "stream",
     "text": [
      "``To be or not to be,\" quoth the Bard, ``that\n",
      "is the question\".\n",
      "The programming contestant replied: ``I must disagree.\n",
      "To `C' or not to `C', that is The Question!\"\n"
     ]
    }
   ],
   "source": [
    "Q272(\"Q272.txt\")"
   ]
  },
  {
   "cell_type": "code",
   "execution_count": null,
   "metadata": {},
   "outputs": [],
   "source": []
  }
 ],
 "metadata": {
  "kernelspec": {
   "display_name": "Python 3",
   "language": "python",
   "name": "python3"
  },
  "language_info": {
   "codemirror_mode": {
    "name": "ipython",
    "version": 3
   },
   "file_extension": ".py",
   "mimetype": "text/x-python",
   "name": "python",
   "nbconvert_exporter": "python",
   "pygments_lexer": "ipython3",
   "version": "3.7.3"
  }
 },
 "nbformat": 4,
 "nbformat_minor": 2
}
