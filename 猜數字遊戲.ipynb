{
 "cells": [
  {
   "cell_type": "code",
   "execution_count": 1,
   "metadata": {},
   "outputs": [],
   "source": [
    "def generateAns(x):#生成數字不重複的x位數\n",
    "    dataBase = list('123456789')\n",
    "    Ans = 0\n",
    "    import random\n",
    "    for i in range(x):\n",
    "        k = random.randint(0,len(dataBase)-1)\n",
    "        Ans = Ans + int(dataBase[k])*10**i\n",
    "        dataBase.pop(k)\n",
    "    return Ans"
   ]
  },
  {
   "cell_type": "code",
   "execution_count": 2,
   "metadata": {},
   "outputs": [],
   "source": [
    "def guess(x):#猜數字遊戲啟動，x為位數\n",
    "    Ans = generateAns(x)\n",
    "    print(Ans)\n",
    "    AnsL = list(str(Ans))\n",
    "    guess_num = int(input('請猜測不重複且不含0的%d位數字：' %(x)))\n",
    "    while guess_num != Ans:\n",
    "        A_num = 0\n",
    "        B_num = 0\n",
    "        guess_numL = list(str(guess_num))\n",
    "        for i in range(len(AnsL)):\n",
    "            for j in range(len(guess_numL)):\n",
    "                if AnsL[i] == guess_numL[j]:\n",
    "                    if i == j:\n",
    "                        A_num = A_num + 1\n",
    "                    else:\n",
    "                        B_num = B_num + 1\n",
    "        print('沒猜中喔...提示為：%dA%dB' %(A_num,B_num))\n",
    "        guess_num = int(input('請猜測不重複且不含0的%d位數字：' %(x)))\n",
    "    print('恭喜你答對囉！')"
   ]
  },
  {
   "cell_type": "code",
   "execution_count": 3,
   "metadata": {},
   "outputs": [
    {
     "name": "stdout",
     "output_type": "stream",
     "text": [
      "465271\n",
      "請猜測不重複且不含0的6位數字：465272\n",
      "沒猜中喔...提示為：5A1B\n",
      "請猜測不重複且不含0的6位數字：465271\n",
      "恭喜你答對囉！\n"
     ]
    }
   ],
   "source": [
    "guess(6)"
   ]
  },
  {
   "cell_type": "code",
   "execution_count": null,
   "metadata": {},
   "outputs": [],
   "source": []
  }
 ],
 "metadata": {
  "kernelspec": {
   "display_name": "Python 3",
   "language": "python",
   "name": "python3"
  },
  "language_info": {
   "codemirror_mode": {
    "name": "ipython",
    "version": 3
   },
   "file_extension": ".py",
   "mimetype": "text/x-python",
   "name": "python",
   "nbconvert_exporter": "python",
   "pygments_lexer": "ipython3",
   "version": "3.7.3"
  }
 },
 "nbformat": 4,
 "nbformat_minor": 2
}
