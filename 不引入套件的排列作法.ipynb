{
 "cells": [
  {
   "cell_type": "code",
   "execution_count": 109,
   "metadata": {},
   "outputs": [],
   "source": [
    "def p(x):##顯示所有排列的函數\n",
    "    base = list(map(int,list(str(x))))\n",
    "    ans = [[base[0]]]\n",
    "    for i in range(1,len(base)):\n",
    "        temp1 = []\n",
    "        for j in range(len(ans)):\n",
    "            for k in range(len(ans[0])+1):\n",
    "                temp2 = ans[j] + [0] #避免陣列相同問題\n",
    "                temp2.pop(-1)\n",
    "                temp2.insert(k,base[i])\n",
    "                temp1.append(temp2)\n",
    "        ans = temp1\n",
    "    return ans"
   ]
  },
  {
   "cell_type": "code",
   "execution_count": 114,
   "metadata": {},
   "outputs": [
    {
     "data": {
      "text/plain": [
       "[[3, 2, 1], [2, 3, 1], [2, 1, 3], [3, 1, 2], [1, 3, 2], [1, 2, 3]]"
      ]
     },
     "execution_count": 114,
     "metadata": {},
     "output_type": "execute_result"
    }
   ],
   "source": [
    "p(123)"
   ]
  }
 ],
 "metadata": {
  "kernelspec": {
   "display_name": "Python 3",
   "language": "python",
   "name": "python3"
  },
  "language_info": {
   "codemirror_mode": {
    "name": "ipython",
    "version": 3
   },
   "file_extension": ".py",
   "mimetype": "text/x-python",
   "name": "python",
   "nbconvert_exporter": "python",
   "pygments_lexer": "ipython3",
   "version": "3.7.3"
  }
 },
 "nbformat": 4,
 "nbformat_minor": 2
}
