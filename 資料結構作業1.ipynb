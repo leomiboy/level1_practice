{
 "cells": [
  {
   "cell_type": "markdown",
   "metadata": {},
   "source": [
    "插入排序法(insert法)"
   ]
  },
  {
   "cell_type": "code",
   "execution_count": 1,
   "metadata": {},
   "outputs": [
    {
     "name": "stdout",
     "output_type": "stream",
     "text": [
      "[1, 2, 2, 3, 3, 4, 5, 6, 7, 8, 9, 9]\n"
     ]
    }
   ],
   "source": [
    "L = [8,3,6,2,1,7,4,3,2,9,5,9]\n",
    "NL = [L[0]]\n",
    "\n",
    "for i in range(1,len(L)):\n",
    "    c = 0\n",
    "    for j in range(len(NL)):\n",
    "        if L[i] < NL[j]:\n",
    "            NL.insert(j,L[i])\n",
    "            c = 1\n",
    "            break\n",
    "    if c == 0:\n",
    "        NL.insert(j+1,L[i])\n",
    "print(NL)     \n",
    "    "
   ]
  },
  {
   "cell_type": "markdown",
   "metadata": {},
   "source": [
    "插入排序法(對調)"
   ]
  },
  {
   "cell_type": "code",
   "execution_count": 17,
   "metadata": {},
   "outputs": [
    {
     "name": "stdout",
     "output_type": "stream",
     "text": [
      "[1, 2, 3, 4, 5, 6, 7, 8, 8, 9, 9]\n"
     ]
    }
   ],
   "source": [
    "L = [8,3,6,8,1,7,4,2,9,5,9]\n",
    "for i in range(1,len(L)):\n",
    "    temp = L[i]\n",
    "    for j in range(i-1,-1,-1):\n",
    "        if temp < L[j]:\n",
    "            L[j+1] = L[j]\n",
    "            L[j] = temp\n",
    "        else:\n",
    "            break\n",
    "print(L)          "
   ]
  },
  {
   "cell_type": "markdown",
   "metadata": {},
   "source": [
    "插入排序+二分法(insert+二分)(未完成)"
   ]
  },
  {
   "cell_type": "code",
   "execution_count": 23,
   "metadata": {},
   "outputs": [
    {
     "name": "stdout",
     "output_type": "stream",
     "text": [
      "[1, 2, 3, 4, 5, 6, 7, 8, 8, 9, 9]\n"
     ]
    }
   ],
   "source": [
    "L = [8,3,6,8,2,1,9,7,4,9,5]\n",
    "NL = [L[0]]\n",
    "Low = 0\n",
    "High = len(NL)-1\n",
    "for i in range(1,len(L)):\n",
    "    if L[i] < NL[Low]:\n",
    "        NL.insert(Low,L[i])\n",
    "    elif L[i] > NL[High]:\n",
    "        NL.insert(High+1,L[i])\n",
    "    else:\n",
    "        while True:\n",
    "            Mid = int((High + Low)/2)\n",
    "            if Low == Mid:\n",
    "                NL.insert(Mid+1,L[i])\n",
    "                break\n",
    "            if L[i] > NL[Mid]:\n",
    "                Low = Mid\n",
    "            if L[i] < NL[Mid]:\n",
    "                High = Mid \n",
    "    Low = 0\n",
    "    High = len(NL)-1          \n",
    "print(NL)     \n",
    "    "
   ]
  },
  {
   "cell_type": "code",
   "execution_count": null,
   "metadata": {},
   "outputs": [],
   "source": []
  }
 ],
 "metadata": {
  "kernelspec": {
   "display_name": "Python 3",
   "language": "python",
   "name": "python3"
  },
  "language_info": {
   "codemirror_mode": {
    "name": "ipython",
    "version": 3
   },
   "file_extension": ".py",
   "mimetype": "text/x-python",
   "name": "python",
   "nbconvert_exporter": "python",
   "pygments_lexer": "ipython3",
   "version": "3.7.3"
  }
 },
 "nbformat": 4,
 "nbformat_minor": 2
}
