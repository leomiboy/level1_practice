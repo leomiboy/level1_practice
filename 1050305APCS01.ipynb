{
 "cells": [
  {
   "cell_type": "markdown",
   "metadata": {},
   "source": [
    "# 1050305APCS01 第一題 成績指標"
   ]
  },
  {
   "cell_type": "code",
   "execution_count": 12,
   "metadata": {},
   "outputs": [],
   "source": [
    "def ogdata(x):\n",
    "    L = list(open(x))\n",
    "    L.pop(0)\n",
    "    L = list(L[0].split(' '))\n",
    "    NL = []\n",
    "    for i in L:\n",
    "        NL.append(int(i))\n",
    "    NL.sort()\n",
    "    return NL        "
   ]
  },
  {
   "cell_type": "code",
   "execution_count": 46,
   "metadata": {},
   "outputs": [],
   "source": [
    "def grade(x):\n",
    "    L = ogdata(x)\n",
    "    for j in range(len(L)-1):\n",
    "        print(L[j],end=' ')\n",
    "    print(L[len(L)-1])\n",
    "    case = 0\n",
    "    for i in range(len(L)):\n",
    "        if L[i] >= 60:\n",
    "            if i == 0:\n",
    "                print(L[i])\n",
    "                print('best case')\n",
    "                case = 1\n",
    "                break\n",
    "            else:\n",
    "                print(L[i-1])\n",
    "                print(L[i])\n",
    "                case = 2\n",
    "                break\n",
    "    if  case == 0:\n",
    "        print(L[len(L)-1])\n",
    "        print('worst case')       "
   ]
  },
  {
   "cell_type": "code",
   "execution_count": 47,
   "metadata": {},
   "outputs": [
    {
     "name": "stdout",
     "output_type": "stream",
     "text": [
      "0 11 22 33 44 55 66 77 88 99\n",
      "55\n",
      "66\n"
     ]
    }
   ],
   "source": [
    "grade('1050305APCS0101.txt')"
   ]
  },
  {
   "cell_type": "code",
   "execution_count": 48,
   "metadata": {},
   "outputs": [
    {
     "name": "stdout",
     "output_type": "stream",
     "text": [
      "13\n",
      "13\n",
      "worst case\n"
     ]
    }
   ],
   "source": [
    "grade('1050305APCS0102.txt')"
   ]
  },
  {
   "cell_type": "code",
   "execution_count": 49,
   "metadata": {},
   "outputs": [
    {
     "name": "stdout",
     "output_type": "stream",
     "text": [
      "65 73\n",
      "65\n",
      "best case\n"
     ]
    }
   ],
   "source": [
    "grade('1050305APCS0103.txt')"
   ]
  },
  {
   "cell_type": "code",
   "execution_count": null,
   "metadata": {},
   "outputs": [],
   "source": []
  }
 ],
 "metadata": {
  "kernelspec": {
   "display_name": "Python 3",
   "language": "python",
   "name": "python3"
  },
  "language_info": {
   "codemirror_mode": {
    "name": "ipython",
    "version": 3
   },
   "file_extension": ".py",
   "mimetype": "text/x-python",
   "name": "python",
   "nbconvert_exporter": "python",
   "pygments_lexer": "ipython3",
   "version": "3.7.3"
  }
 },
 "nbformat": 4,
 "nbformat_minor": 2
}
