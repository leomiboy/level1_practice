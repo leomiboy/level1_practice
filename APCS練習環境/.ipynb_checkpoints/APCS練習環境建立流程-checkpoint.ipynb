{
 "cells": [
  {
   "cell_type": "markdown",
   "metadata": {},
   "source": [
    "# 在自己的電腦上建立APCS練習環境流程"
   ]
  },
  {
   "cell_type": "markdown",
   "metadata": {},
   "source": [
    "#### 各位同學大家好，小弟花了點時間研究了一下老師上課講的APCS虛擬練習環境，有鑑於APCS的考試環境跟我們使用的jupyter notebook還是有些操作上的不同，還有在使用VirtualBox的時候會產生一些小問題，我整理了以下的筆記分享給大家，讓大家可以快速熟悉APCS的考試環境，並且能順利使用虛擬環境來練習程式撰寫。"
   ]
  },
  {
   "cell_type": "markdown",
   "metadata": {},
   "source": [
    "## 步驟一：進入APCS網頁下載程式"
   ]
  },
  {
   "cell_type": "markdown",
   "metadata": {},
   "source": [
    "* 進入APCS檢測系統環境頁面\n",
    "* 開啟說明文件\n",
    "* 下載VirtualBox(需依照相應的系統)\n",
    "* 下載APCS(iso檔)\n",
    "\n",
    "![](01.png)"
   ]
  },
  {
   "cell_type": "markdown",
   "metadata": {},
   "source": [
    "## 步驟二：請依照說明文件中的步驟安裝VirtualBox以及建立APCS虛擬系統"
   ]
  },
  {
   "cell_type": "markdown",
   "metadata": {},
   "source": [
    "* 安裝VirtualBox\n",
    "* 建立APCS系統(註)\n",
    "\n",
    "![](02.png)\n",
    "\n",
    "註：部分電腦在建立系統時會沒有64bit的安裝選項，這需要進入電腦的Bois系統的「進階」選項中開啟「虛擬化技術」，詳見右側連結中的教學影片 [解決沒有64bit安裝選項的方式](https://www.youtube.com/watch?time_continue=5&v=hCjFJWLye9Q)，由於每個人使用的電腦Bios都不盡相同，而且也有可能是全英文的版本，所以就找在「進階」選項中有「Virtual」的選項將其開啟即可。"
   ]
  },
  {
   "cell_type": "markdown",
   "metadata": {},
   "source": [
    "## 步驟三：虛擬系統桌面"
   ]
  },
  {
   "cell_type": "markdown",
   "metadata": {},
   "source": [
    "考試時會用到的程式說明如下：\n",
    "\n",
    "![](03.png)\n",
    "\n",
    "利用上述三個程式以及考場才有的APCS檔案上傳程式就可以完成考試流程囉！\n",
    "程式檔案上傳說明請參考連結 [APCS檢測答案系統說明](https://apcs.csie.ntnu.edu.tw/index.php/info/systemdescription/)"
   ]
  },
  {
   "cell_type": "markdown",
   "metadata": {},
   "source": [
    "## 步驟四：撰寫程式並執行"
   ]
  },
  {
   "cell_type": "markdown",
   "metadata": {},
   "source": [
    "這個部分老師上課有提過所以大家應該都有印象吧！\n",
    "* 首先點選IDLE 3.6的版本進入下面的畫面\n",
    "\n",
    "![](04.png)\n",
    "\n",
    "\n",
    "* 在此畫面中你可以做類似於jupyter notebook的動作，馬上寫個迴圈來試試看！我們也可以在這個介面下簡單測試自己想寫的方法是否正確\n",
    "\n",
    "![](05.png)\n",
    "\n",
    "\n",
    "* 但是在此介面下會沒辦法存檔，所以建議大家養成習慣先利用 ->File ->New File開啟一個新的程式檔後再進行程式的撰寫，寫完記得存檔，檔案可以先存在桌面上方便使用\n",
    "\n",
    "![](06.png)\n",
    "\n",
    "\n",
    "* 存檔完成後按下F5，或是利用 ->Run ->Run Module就可以執行程式\n",
    "\n",
    "![](07.png)\n",
    "\n",
    "\n",
    "* 此時程式會逐行要求我們輸入數值\n",
    "\n",
    "![](08.png)\n",
    "\n",
    "\n",
    "* 成功!不過要逐行輸入數據很麻煩，能不能直接引入文字檔中的數據呢？請繼續看下去吧！\n",
    "\n",
    "![](09.png)\n"
   ]
  },
  {
   "cell_type": "markdown",
   "metadata": {},
   "source": [
    "## 利用LXterminal程式(命令提示字元)來快速引入Leafpad文字檔數據(考試時引入範例數據時滿重要的)"
   ]
  },
  {
   "cell_type": "markdown",
   "metadata": {},
   "source": [
    "* 首先開啟Leafpad建立一個數入的數據檔(這裡取名為test)，並且將此檔案存在桌面上，考試時可將題目提供的範例數據存在此檔中\n",
    "\n",
    "![](10.png)\n",
    "\n",
    "* 請留意程式檔與文件檔是否都在桌面上\n",
    "\n",
    "![](11.png)\n",
    "\n",
    "* 開啟LXterminal後鍵入cd Desktop，將資料夾轉換到桌面(因為我們存的.py檔在桌面上)，注意D一定要大寫喔！\n",
    "\n",
    "![](12.png)\n",
    "\n",
    "* 完成後鍵入python3 p1.py < test 即可引入數據，請注意p1是自己取的程式檔名，而test則是文字檔名，注意文字檔名後不用加.txt喔\n",
    "\n",
    "![](13.png)\n",
    "\n",
    "* 這樣就是完整的流程囉！希望大家練習的時候都很順利喔！"
   ]
  },
  {
   "cell_type": "code",
   "execution_count": null,
   "metadata": {},
   "outputs": [],
   "source": []
  }
 ],
 "metadata": {
  "kernelspec": {
   "display_name": "Python 3",
   "language": "python",
   "name": "python3"
  },
  "language_info": {
   "codemirror_mode": {
    "name": "ipython",
    "version": 3
   },
   "file_extension": ".py",
   "mimetype": "text/x-python",
   "name": "python",
   "nbconvert_exporter": "python",
   "pygments_lexer": "ipython3",
   "version": "3.7.3"
  }
 },
 "nbformat": 4,
 "nbformat_minor": 2
}
